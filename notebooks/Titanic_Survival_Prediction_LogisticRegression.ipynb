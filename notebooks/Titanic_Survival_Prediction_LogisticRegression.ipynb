{
 "cells": [
  {
   "cell_type": "markdown",
   "metadata": {},
   "source": [
    "# Titanic Survival Prediction - Using Logistic Regression"
   ]
  },
  {
   "cell_type": "markdown",
   "metadata": {},
   "source": [
    "The sinking of the Titanic is one of the most infamous shipwrecks in history.\n",
    "\n",
    "On April 15, 1912, during her maiden voyage, the widely considered “unsinkable” RMS Titanic sank after colliding with an iceberg. Unfortunately, there weren’t enough lifeboats for everyone onboard, resulting in the death of 1502 out of 2224 passengers and crew.\n",
    "\n",
    "While there was some element of luck involved in surviving, it seems some groups of people were more likely to survive than others.\n",
    "\n",
    "In this challenge, the ask is to build a predictive model that answers the question: “what sorts of people were more likely to survive?” using passenger data (ie name, age, gender, socio-economic class, etc).\n",
    "\n",
    "So we need to create a model that predicts which passengers survived the Titanic shipwreck."
   ]
  },
  {
   "cell_type": "markdown",
   "metadata": {},
   "source": [
    "### The solution is divided into the following sections:\n",
    "- Data understanding and exploration\n",
    "- Data cleaning.\n",
    "- Data Analysis.\n",
    "- Data preparation.\n",
    "- Model building.\n",
    "- Prediction and Model evaluation."
   ]
  },
  {
   "cell_type": "markdown",
   "metadata": {},
   "source": [
    " "
   ]
  },
  {
   "cell_type": "markdown",
   "metadata": {},
   "source": [
    "## Data understanding and exploration"
   ]
  },
  {
   "cell_type": "code",
   "execution_count": 1,
   "metadata": {},
   "outputs": [],
   "source": [
    "# Importing the required libraries\n",
    "\n",
    "import pandas as pd\n",
    "import numpy as np\n",
    "import matplotlib.pyplot as plt\n",
    "import seaborn as sns\n",
    "\n",
    "from sklearn.model_selection import train_test_split\n",
    "from sklearn.metrics import accuracy_score,roc_auc_score,confusion_matrix,recall_score,precision_score\n",
    "\n",
    "from sklearn.preprocessing import MinMaxScaler\n",
    "\n",
    "from sklearn.feature_selection import RFE\n",
    "from sklearn.linear_model import LogisticRegression\n",
    "\n",
    "import statsmodels.api as sm\n",
    "from statsmodels.stats.outliers_influence import variance_inflation_factor\n",
    "\n",
    "from sklearn.preprocessing import StandardScaler,MinMaxScaler\n",
    "\n",
    "from sklearn.metrics import r2_score\n",
    "\n",
    "from scipy.stats import boxcox\n",
    "\n",
    "\n",
    "import warnings\n",
    "warnings.filterwarnings('ignore')"
   ]
  },
  {
   "cell_type": "code",
   "execution_count": 2,
   "metadata": {},
   "outputs": [],
   "source": [
    "# Setting Display Max columns and display max rows to None so that it displays all the rows and columns which will \n",
    "# help us in initial analysis\n",
    "pd.options.display.max_columns = None\n",
    "pd.options.display.max_rows = None"
   ]
  },
  {
   "cell_type": "code",
   "execution_count": 3,
   "metadata": {
    "scrolled": false
   },
   "outputs": [
    {
     "data": {
      "text/html": [
       "<div>\n",
       "<style scoped>\n",
       "    .dataframe tbody tr th:only-of-type {\n",
       "        vertical-align: middle;\n",
       "    }\n",
       "\n",
       "    .dataframe tbody tr th {\n",
       "        vertical-align: top;\n",
       "    }\n",
       "\n",
       "    .dataframe thead th {\n",
       "        text-align: right;\n",
       "    }\n",
       "</style>\n",
       "<table border=\"1\" class=\"dataframe\">\n",
       "  <thead>\n",
       "    <tr style=\"text-align: right;\">\n",
       "      <th></th>\n",
       "      <th>PassengerId</th>\n",
       "      <th>Survived</th>\n",
       "      <th>Pclass</th>\n",
       "      <th>Name</th>\n",
       "      <th>Sex</th>\n",
       "      <th>Age</th>\n",
       "      <th>SibSp</th>\n",
       "      <th>Parch</th>\n",
       "      <th>Ticket</th>\n",
       "      <th>Fare</th>\n",
       "      <th>Cabin</th>\n",
       "      <th>Embarked</th>\n",
       "    </tr>\n",
       "  </thead>\n",
       "  <tbody>\n",
       "    <tr>\n",
       "      <th>0</th>\n",
       "      <td>1</td>\n",
       "      <td>0</td>\n",
       "      <td>3</td>\n",
       "      <td>Braund, Mr. Owen Harris</td>\n",
       "      <td>male</td>\n",
       "      <td>22.0</td>\n",
       "      <td>1</td>\n",
       "      <td>0</td>\n",
       "      <td>A/5 21171</td>\n",
       "      <td>7.2500</td>\n",
       "      <td>NaN</td>\n",
       "      <td>S</td>\n",
       "    </tr>\n",
       "    <tr>\n",
       "      <th>1</th>\n",
       "      <td>2</td>\n",
       "      <td>1</td>\n",
       "      <td>1</td>\n",
       "      <td>Cumings, Mrs. John Bradley (Florence Briggs Th...</td>\n",
       "      <td>female</td>\n",
       "      <td>38.0</td>\n",
       "      <td>1</td>\n",
       "      <td>0</td>\n",
       "      <td>PC 17599</td>\n",
       "      <td>71.2833</td>\n",
       "      <td>C85</td>\n",
       "      <td>C</td>\n",
       "    </tr>\n",
       "    <tr>\n",
       "      <th>2</th>\n",
       "      <td>3</td>\n",
       "      <td>1</td>\n",
       "      <td>3</td>\n",
       "      <td>Heikkinen, Miss. Laina</td>\n",
       "      <td>female</td>\n",
       "      <td>26.0</td>\n",
       "      <td>0</td>\n",
       "      <td>0</td>\n",
       "      <td>STON/O2. 3101282</td>\n",
       "      <td>7.9250</td>\n",
       "      <td>NaN</td>\n",
       "      <td>S</td>\n",
       "    </tr>\n",
       "    <tr>\n",
       "      <th>3</th>\n",
       "      <td>4</td>\n",
       "      <td>1</td>\n",
       "      <td>1</td>\n",
       "      <td>Futrelle, Mrs. Jacques Heath (Lily May Peel)</td>\n",
       "      <td>female</td>\n",
       "      <td>35.0</td>\n",
       "      <td>1</td>\n",
       "      <td>0</td>\n",
       "      <td>113803</td>\n",
       "      <td>53.1000</td>\n",
       "      <td>C123</td>\n",
       "      <td>S</td>\n",
       "    </tr>\n",
       "    <tr>\n",
       "      <th>4</th>\n",
       "      <td>5</td>\n",
       "      <td>0</td>\n",
       "      <td>3</td>\n",
       "      <td>Allen, Mr. William Henry</td>\n",
       "      <td>male</td>\n",
       "      <td>35.0</td>\n",
       "      <td>0</td>\n",
       "      <td>0</td>\n",
       "      <td>373450</td>\n",
       "      <td>8.0500</td>\n",
       "      <td>NaN</td>\n",
       "      <td>S</td>\n",
       "    </tr>\n",
       "  </tbody>\n",
       "</table>\n",
       "</div>"
      ],
      "text/plain": [
       "   PassengerId  Survived  Pclass  \\\n",
       "0            1         0       3   \n",
       "1            2         1       1   \n",
       "2            3         1       3   \n",
       "3            4         1       1   \n",
       "4            5         0       3   \n",
       "\n",
       "                                                Name     Sex   Age  SibSp  \\\n",
       "0                            Braund, Mr. Owen Harris    male  22.0      1   \n",
       "1  Cumings, Mrs. John Bradley (Florence Briggs Th...  female  38.0      1   \n",
       "2                             Heikkinen, Miss. Laina  female  26.0      0   \n",
       "3       Futrelle, Mrs. Jacques Heath (Lily May Peel)  female  35.0      1   \n",
       "4                           Allen, Mr. William Henry    male  35.0      0   \n",
       "\n",
       "   Parch            Ticket     Fare Cabin Embarked  \n",
       "0      0         A/5 21171   7.2500   NaN        S  \n",
       "1      0          PC 17599  71.2833   C85        C  \n",
       "2      0  STON/O2. 3101282   7.9250   NaN        S  \n",
       "3      0            113803  53.1000  C123        S  \n",
       "4      0            373450   8.0500   NaN        S  "
      ]
     },
     "execution_count": 3,
     "metadata": {},
     "output_type": "execute_result"
    }
   ],
   "source": [
    "# Importing the dataset\n",
    "data = pd.read_csv(\"../data/train.csv\")\n",
    "data.head()"
   ]
  },
  {
   "cell_type": "code",
   "execution_count": 4,
   "metadata": {},
   "outputs": [
    {
     "data": {
      "text/plain": [
       "(891, 12)"
      ]
     },
     "execution_count": 4,
     "metadata": {},
     "output_type": "execute_result"
    }
   ],
   "source": [
    "# Checking the dataframe size to understand what amount of data we are dealing with\n",
    "data.shape"
   ]
  },
  {
   "cell_type": "code",
   "execution_count": 5,
   "metadata": {
    "scrolled": true
   },
   "outputs": [
    {
     "name": "stdout",
     "output_type": "stream",
     "text": [
      "<class 'pandas.core.frame.DataFrame'>\n",
      "RangeIndex: 891 entries, 0 to 890\n",
      "Data columns (total 12 columns):\n",
      " #   Column       Non-Null Count  Dtype  \n",
      "---  ------       --------------  -----  \n",
      " 0   PassengerId  891 non-null    int64  \n",
      " 1   Survived     891 non-null    int64  \n",
      " 2   Pclass       891 non-null    int64  \n",
      " 3   Name         891 non-null    object \n",
      " 4   Sex          891 non-null    object \n",
      " 5   Age          714 non-null    float64\n",
      " 6   SibSp        891 non-null    int64  \n",
      " 7   Parch        891 non-null    int64  \n",
      " 8   Ticket       891 non-null    object \n",
      " 9   Fare         891 non-null    float64\n",
      " 10  Cabin        204 non-null    object \n",
      " 11  Embarked     889 non-null    object \n",
      "dtypes: float64(2), int64(5), object(5)\n",
      "memory usage: 83.7+ KB\n"
     ]
    }
   ],
   "source": [
    "# Checking the dataframe for the datatypes for all the columns\n",
    "data.info()"
   ]
  },
  {
   "cell_type": "code",
   "execution_count": 6,
   "metadata": {},
   "outputs": [
    {
     "data": {
      "text/html": [
       "<div>\n",
       "<style scoped>\n",
       "    .dataframe tbody tr th:only-of-type {\n",
       "        vertical-align: middle;\n",
       "    }\n",
       "\n",
       "    .dataframe tbody tr th {\n",
       "        vertical-align: top;\n",
       "    }\n",
       "\n",
       "    .dataframe thead th {\n",
       "        text-align: right;\n",
       "    }\n",
       "</style>\n",
       "<table border=\"1\" class=\"dataframe\">\n",
       "  <thead>\n",
       "    <tr style=\"text-align: right;\">\n",
       "      <th></th>\n",
       "      <th>PassengerId</th>\n",
       "      <th>Survived</th>\n",
       "      <th>Pclass</th>\n",
       "      <th>Age</th>\n",
       "      <th>SibSp</th>\n",
       "      <th>Parch</th>\n",
       "      <th>Fare</th>\n",
       "    </tr>\n",
       "  </thead>\n",
       "  <tbody>\n",
       "    <tr>\n",
       "      <th>count</th>\n",
       "      <td>891.000000</td>\n",
       "      <td>891.000000</td>\n",
       "      <td>891.000000</td>\n",
       "      <td>714.000000</td>\n",
       "      <td>891.000000</td>\n",
       "      <td>891.000000</td>\n",
       "      <td>891.000000</td>\n",
       "    </tr>\n",
       "    <tr>\n",
       "      <th>mean</th>\n",
       "      <td>446.000000</td>\n",
       "      <td>0.383838</td>\n",
       "      <td>2.308642</td>\n",
       "      <td>29.699118</td>\n",
       "      <td>0.523008</td>\n",
       "      <td>0.381594</td>\n",
       "      <td>32.204208</td>\n",
       "    </tr>\n",
       "    <tr>\n",
       "      <th>std</th>\n",
       "      <td>257.353842</td>\n",
       "      <td>0.486592</td>\n",
       "      <td>0.836071</td>\n",
       "      <td>14.526497</td>\n",
       "      <td>1.102743</td>\n",
       "      <td>0.806057</td>\n",
       "      <td>49.693429</td>\n",
       "    </tr>\n",
       "    <tr>\n",
       "      <th>min</th>\n",
       "      <td>1.000000</td>\n",
       "      <td>0.000000</td>\n",
       "      <td>1.000000</td>\n",
       "      <td>0.420000</td>\n",
       "      <td>0.000000</td>\n",
       "      <td>0.000000</td>\n",
       "      <td>0.000000</td>\n",
       "    </tr>\n",
       "    <tr>\n",
       "      <th>25%</th>\n",
       "      <td>223.500000</td>\n",
       "      <td>0.000000</td>\n",
       "      <td>2.000000</td>\n",
       "      <td>20.125000</td>\n",
       "      <td>0.000000</td>\n",
       "      <td>0.000000</td>\n",
       "      <td>7.910400</td>\n",
       "    </tr>\n",
       "    <tr>\n",
       "      <th>50%</th>\n",
       "      <td>446.000000</td>\n",
       "      <td>0.000000</td>\n",
       "      <td>3.000000</td>\n",
       "      <td>28.000000</td>\n",
       "      <td>0.000000</td>\n",
       "      <td>0.000000</td>\n",
       "      <td>14.454200</td>\n",
       "    </tr>\n",
       "    <tr>\n",
       "      <th>75%</th>\n",
       "      <td>668.500000</td>\n",
       "      <td>1.000000</td>\n",
       "      <td>3.000000</td>\n",
       "      <td>38.000000</td>\n",
       "      <td>1.000000</td>\n",
       "      <td>0.000000</td>\n",
       "      <td>31.000000</td>\n",
       "    </tr>\n",
       "    <tr>\n",
       "      <th>max</th>\n",
       "      <td>891.000000</td>\n",
       "      <td>1.000000</td>\n",
       "      <td>3.000000</td>\n",
       "      <td>80.000000</td>\n",
       "      <td>8.000000</td>\n",
       "      <td>6.000000</td>\n",
       "      <td>512.329200</td>\n",
       "    </tr>\n",
       "  </tbody>\n",
       "</table>\n",
       "</div>"
      ],
      "text/plain": [
       "       PassengerId    Survived      Pclass         Age       SibSp  \\\n",
       "count   891.000000  891.000000  891.000000  714.000000  891.000000   \n",
       "mean    446.000000    0.383838    2.308642   29.699118    0.523008   \n",
       "std     257.353842    0.486592    0.836071   14.526497    1.102743   \n",
       "min       1.000000    0.000000    1.000000    0.420000    0.000000   \n",
       "25%     223.500000    0.000000    2.000000   20.125000    0.000000   \n",
       "50%     446.000000    0.000000    3.000000   28.000000    0.000000   \n",
       "75%     668.500000    1.000000    3.000000   38.000000    1.000000   \n",
       "max     891.000000    1.000000    3.000000   80.000000    8.000000   \n",
       "\n",
       "            Parch        Fare  \n",
       "count  891.000000  891.000000  \n",
       "mean     0.381594   32.204208  \n",
       "std      0.806057   49.693429  \n",
       "min      0.000000    0.000000  \n",
       "25%      0.000000    7.910400  \n",
       "50%      0.000000   14.454200  \n",
       "75%      0.000000   31.000000  \n",
       "max      6.000000  512.329200  "
      ]
     },
     "execution_count": 6,
     "metadata": {},
     "output_type": "execute_result"
    }
   ],
   "source": [
    "# Doing describe to check the spread of values across all numerical fields\n",
    "data.describe()"
   ]
  },
  {
   "cell_type": "markdown",
   "metadata": {},
   "source": [
    "## Data Analysis Cleaning and Imputation"
   ]
  },
  {
   "cell_type": "code",
   "execution_count": 7,
   "metadata": {
    "scrolled": false
   },
   "outputs": [
    {
     "data": {
      "text/plain": [
       "PassengerId     0.00\n",
       "Survived        0.00\n",
       "Pclass          0.00\n",
       "Name            0.00\n",
       "Sex             0.00\n",
       "Age            19.87\n",
       "SibSp           0.00\n",
       "Parch           0.00\n",
       "Ticket          0.00\n",
       "Fare            0.00\n",
       "Cabin          77.10\n",
       "Embarked        0.22\n",
       "dtype: float64"
      ]
     },
     "execution_count": 7,
     "metadata": {},
     "output_type": "execute_result"
    }
   ],
   "source": [
    "# Checking the percentage of missing values across all the columns\n",
    "round(100*(data[data.columns].isnull().sum()/len(data.index)),2)"
   ]
  },
  {
   "cell_type": "code",
   "execution_count": 8,
   "metadata": {},
   "outputs": [
    {
     "data": {
      "text/plain": [
       "count     889\n",
       "unique      3\n",
       "top         S\n",
       "freq      644\n",
       "Name: Embarked, dtype: object"
      ]
     },
     "execution_count": 8,
     "metadata": {},
     "output_type": "execute_result"
    }
   ],
   "source": [
    "# Checking the count/uniqueness of data for Embarked feature\n",
    "data['Embarked'].describe()"
   ]
  },
  {
   "cell_type": "markdown",
   "metadata": {},
   "source": [
    "#### Imputing Embarked Value"
   ]
  },
  {
   "cell_type": "code",
   "execution_count": 9,
   "metadata": {
    "scrolled": true
   },
   "outputs": [
    {
     "data": {
      "text/html": [
       "<div>\n",
       "<style scoped>\n",
       "    .dataframe tbody tr th:only-of-type {\n",
       "        vertical-align: middle;\n",
       "    }\n",
       "\n",
       "    .dataframe tbody tr th {\n",
       "        vertical-align: top;\n",
       "    }\n",
       "\n",
       "    .dataframe thead th {\n",
       "        text-align: right;\n",
       "    }\n",
       "</style>\n",
       "<table border=\"1\" class=\"dataframe\">\n",
       "  <thead>\n",
       "    <tr style=\"text-align: right;\">\n",
       "      <th></th>\n",
       "      <th>PassengerId</th>\n",
       "      <th>Survived</th>\n",
       "      <th>Pclass</th>\n",
       "      <th>Name</th>\n",
       "      <th>Sex</th>\n",
       "      <th>Age</th>\n",
       "      <th>SibSp</th>\n",
       "      <th>Parch</th>\n",
       "      <th>Ticket</th>\n",
       "      <th>Fare</th>\n",
       "      <th>Cabin</th>\n",
       "      <th>Embarked</th>\n",
       "    </tr>\n",
       "  </thead>\n",
       "  <tbody>\n",
       "    <tr>\n",
       "      <th>61</th>\n",
       "      <td>62</td>\n",
       "      <td>1</td>\n",
       "      <td>1</td>\n",
       "      <td>Icard, Miss. Amelie</td>\n",
       "      <td>female</td>\n",
       "      <td>38.0</td>\n",
       "      <td>0</td>\n",
       "      <td>0</td>\n",
       "      <td>113572</td>\n",
       "      <td>80.0</td>\n",
       "      <td>B28</td>\n",
       "      <td>NaN</td>\n",
       "    </tr>\n",
       "    <tr>\n",
       "      <th>829</th>\n",
       "      <td>830</td>\n",
       "      <td>1</td>\n",
       "      <td>1</td>\n",
       "      <td>Stone, Mrs. George Nelson (Martha Evelyn)</td>\n",
       "      <td>female</td>\n",
       "      <td>62.0</td>\n",
       "      <td>0</td>\n",
       "      <td>0</td>\n",
       "      <td>113572</td>\n",
       "      <td>80.0</td>\n",
       "      <td>B28</td>\n",
       "      <td>NaN</td>\n",
       "    </tr>\n",
       "  </tbody>\n",
       "</table>\n",
       "</div>"
      ],
      "text/plain": [
       "     PassengerId  Survived  Pclass                                       Name  \\\n",
       "61            62         1       1                        Icard, Miss. Amelie   \n",
       "829          830         1       1  Stone, Mrs. George Nelson (Martha Evelyn)   \n",
       "\n",
       "        Sex   Age  SibSp  Parch  Ticket  Fare Cabin Embarked  \n",
       "61   female  38.0      0      0  113572  80.0   B28      NaN  \n",
       "829  female  62.0      0      0  113572  80.0   B28      NaN  "
      ]
     },
     "execution_count": 9,
     "metadata": {},
     "output_type": "execute_result"
    }
   ],
   "source": [
    "# Printing the rows with NaN values in Embarked feature\n",
    "data[data['Embarked'].isnull()]"
   ]
  },
  {
   "cell_type": "code",
   "execution_count": 10,
   "metadata": {
    "scrolled": true
   },
   "outputs": [],
   "source": [
    "# Replacing the NaN values of Embarked feature with its mode\n",
    "data['Embarked'] = data['Embarked'].fillna(data['Embarked'].mode()[0])"
   ]
  },
  {
   "cell_type": "markdown",
   "metadata": {},
   "source": [
    "#### Imputing Age"
   ]
  },
  {
   "cell_type": "code",
   "execution_count": 11,
   "metadata": {},
   "outputs": [
    {
     "data": {
      "text/plain": [
       "count    714.000000\n",
       "mean      29.699118\n",
       "std       14.526497\n",
       "min        0.420000\n",
       "25%       20.125000\n",
       "50%       28.000000\n",
       "75%       38.000000\n",
       "max       80.000000\n",
       "Name: Age, dtype: float64"
      ]
     },
     "execution_count": 11,
     "metadata": {},
     "output_type": "execute_result"
    }
   ],
   "source": [
    "# Checking the spread of data for \"Age\" feature\n",
    "data['Age'].describe()"
   ]
  },
  {
   "cell_type": "code",
   "execution_count": 12,
   "metadata": {
    "scrolled": true
   },
   "outputs": [],
   "source": [
    "# Extracting the salutation from the Name feature\n",
    "data['Salutation'] = data.Name.apply(lambda name: name.split(',')[1].split('.')[0].strip())"
   ]
  },
  {
   "cell_type": "code",
   "execution_count": 13,
   "metadata": {},
   "outputs": [
    {
     "data": {
      "text/plain": [
       "Mr              517\n",
       "Miss            182\n",
       "Mrs             125\n",
       "Master           40\n",
       "Dr                7\n",
       "Rev               6\n",
       "Major             2\n",
       "Col               2\n",
       "Mlle              2\n",
       "Don               1\n",
       "Ms                1\n",
       "Mme               1\n",
       "the Countess      1\n",
       "Sir               1\n",
       "Capt              1\n",
       "Jonkheer          1\n",
       "Lady              1\n",
       "Name: Salutation, dtype: int64"
      ]
     },
     "execution_count": 13,
     "metadata": {},
     "output_type": "execute_result"
    }
   ],
   "source": [
    "# Checking the spread of data in Salutation column\n",
    "data['Salutation'].value_counts()"
   ]
  },
  {
   "cell_type": "code",
   "execution_count": 14,
   "metadata": {
    "scrolled": true
   },
   "outputs": [
    {
     "name": "stdout",
     "output_type": "stream",
     "text": [
      "                     mean\n",
      "Salutation   Pclass      \n",
      "Capt         1       70.0\n",
      "Col          1       58.0\n",
      "Don          1       40.0\n",
      "Dr           1       43.8\n",
      "             2       38.5\n",
      "Jonkheer     1       38.0\n",
      "Lady         1       48.0\n",
      "Major        1       48.5\n",
      "Master       1        5.3\n",
      "             2        2.3\n",
      "             3        5.4\n",
      "Miss         1       30.0\n",
      "             2       22.4\n",
      "             3       16.1\n",
      "Mlle         1       24.0\n",
      "Mme          1       24.0\n",
      "Mr           1       41.6\n",
      "             2       32.8\n",
      "             3       28.7\n",
      "Mrs          1       40.9\n",
      "             2       33.7\n",
      "             3       33.5\n",
      "Ms           2       28.0\n",
      "Rev          2       43.2\n",
      "Sir          1       49.0\n",
      "the Countess 1       33.0\n"
     ]
    }
   ],
   "source": [
    "# Checking the avergae age of passengers across salutation and pclass\n",
    "print(data.groupby(['Salutation', 'Pclass'])['Age'].agg(['mean']).round(1))"
   ]
  },
  {
   "cell_type": "code",
   "execution_count": 15,
   "metadata": {},
   "outputs": [],
   "source": [
    "# Imputing the missing values of Age with mean age of passengers falling under particular age bracket (filtered with the help \n",
    "# of salutation) and then further filtered against pclass, this is done to impute the age of missing passengers with as much\n",
    "# accuracy as possible\n",
    "data['Age'] = data.groupby(['Salutation', 'Pclass'])['Age'].transform(lambda x: round(x.fillna(x.mean()),1))"
   ]
  },
  {
   "cell_type": "code",
   "execution_count": 16,
   "metadata": {},
   "outputs": [],
   "source": [
    "# Creating a age bucket to segregate the age across 4 different age groups\n",
    "data['Age_bucket'] = pd.cut(data['Age'],[0,12,18,59,100],labels=['Child','Adolescence','Adult','SeniorCitizen'])\n",
    "# data['Age_bucket'] = pd.cut(data['Age'],[0,10,20,30,40,50,60,70,80],labels=['Child','Adolescence','Adult','SeniorCitizen'])"
   ]
  },
  {
   "cell_type": "code",
   "execution_count": 17,
   "metadata": {
    "scrolled": true
   },
   "outputs": [
    {
     "data": {
      "text/plain": [
       "Adult            689\n",
       "Adolescence      103\n",
       "Child             73\n",
       "SeniorCitizen     26\n",
       "Name: Age_bucket, dtype: int64"
      ]
     },
     "execution_count": 17,
     "metadata": {},
     "output_type": "execute_result"
    }
   ],
   "source": [
    "# Checking the spread of values in Age bucket\n",
    "data['Age_bucket'].value_counts()"
   ]
  },
  {
   "cell_type": "code",
   "execution_count": 18,
   "metadata": {
    "scrolled": true
   },
   "outputs": [
    {
     "data": {
      "text/plain": [
       "True     23\n",
       "False    17\n",
       "Name: Survived, dtype: int64"
      ]
     },
     "execution_count": 18,
     "metadata": {},
     "output_type": "execute_result"
    }
   ],
   "source": [
    "# Checking for number of passengers with Salutation \"Master\" has survived\n",
    "(data[data['Salutation']=='Master'].Survived==1).value_counts()"
   ]
  },
  {
   "cell_type": "code",
   "execution_count": 19,
   "metadata": {},
   "outputs": [],
   "source": [
    "# Created a separate feature named \"Master\" with values as Yes if the passenger's salutation is master, else No\n",
    "data['Master'] = np.where(data['Salutation']=='Master','Yes','No')"
   ]
  },
  {
   "cell_type": "code",
   "execution_count": 20,
   "metadata": {},
   "outputs": [],
   "source": [
    "# Converted the numeric variable to categorical as per data understanding\n",
    "pclassmap = {1:'Upper',2:'Middle',3:'Lower'}\n",
    "data['Pclass'] = data['Pclass'].map(pclassmap)"
   ]
  },
  {
   "cell_type": "code",
   "execution_count": 21,
   "metadata": {
    "scrolled": true
   },
   "outputs": [
    {
     "data": {
      "text/plain": [
       "0    678\n",
       "1    118\n",
       "2     80\n",
       "5      5\n",
       "3      5\n",
       "4      4\n",
       "6      1\n",
       "Name: Parch, dtype: int64"
      ]
     },
     "execution_count": 21,
     "metadata": {},
     "output_type": "execute_result"
    }
   ],
   "source": [
    "# Checking the spread of data in Parch variable\n",
    "data['Parch'].value_counts()"
   ]
  },
  {
   "cell_type": "code",
   "execution_count": 22,
   "metadata": {
    "scrolled": true
   },
   "outputs": [
    {
     "data": {
      "text/plain": [
       "0    608\n",
       "1    209\n",
       "2     28\n",
       "4     18\n",
       "3     16\n",
       "8      7\n",
       "5      5\n",
       "Name: SibSp, dtype: int64"
      ]
     },
     "execution_count": 22,
     "metadata": {},
     "output_type": "execute_result"
    }
   ],
   "source": [
    "# Checking the spread of data in SibSp variable\n",
    "data['SibSp'].value_counts()"
   ]
  },
  {
   "cell_type": "code",
   "execution_count": 23,
   "metadata": {},
   "outputs": [],
   "source": [
    "# Created a new feature named \"Family\" by adding the number of family members of \"Parch\" and \"SibSp\"\n",
    "data['Family'] = data['Parch'] + data['SibSp']"
   ]
  },
  {
   "cell_type": "code",
   "execution_count": 24,
   "metadata": {},
   "outputs": [],
   "source": [
    "# Created another new feature named \"Alone\" to capture passengers who were travelling alone\n",
    "data['Alone'] = np.where(data['Family']==0,'Yes','No')"
   ]
  },
  {
   "cell_type": "code",
   "execution_count": 25,
   "metadata": {},
   "outputs": [],
   "source": [
    "# Filling the NaN values of Fare with the median of the same\n",
    "data['Fare'] = data['Fare'].fillna(data['Fare'].median())"
   ]
  },
  {
   "cell_type": "code",
   "execution_count": 26,
   "metadata": {},
   "outputs": [],
   "source": [
    "# Creating a Fare bucket to split all the Fares into 'Low','Medium','High','Very High' buckets\n",
    "data['Fare_bucket'] = pd.qcut(data['Fare'],4, labels=['Low','Medium','High','Very High'])"
   ]
  },
  {
   "cell_type": "code",
   "execution_count": 27,
   "metadata": {
    "scrolled": false
   },
   "outputs": [
    {
     "data": {
      "text/plain": [
       "Medium       224\n",
       "Low          223\n",
       "Very High    222\n",
       "High         222\n",
       "Name: Fare_bucket, dtype: int64"
      ]
     },
     "execution_count": 27,
     "metadata": {},
     "output_type": "execute_result"
    }
   ],
   "source": [
    "# Checking the spread of values across Fare buckets\n",
    "data['Fare_bucket'].value_counts()"
   ]
  },
  {
   "cell_type": "code",
   "execution_count": 28,
   "metadata": {},
   "outputs": [],
   "source": [
    "# data['Fare_bucket'] = pd.cut(data['Fare'],[0,100,100,30,40,50,60,70,80],labels=['0-10','10-20','20-30','30-40','40-50','50-60','60-70','70-80'])"
   ]
  },
  {
   "cell_type": "code",
   "execution_count": 29,
   "metadata": {},
   "outputs": [],
   "source": [
    "# Fare_bucket = ['Low', 'Medium', 'High', 'Very High']\n",
    "# data['Fare_bucket'] = pd.cut(data['Fare'],\n",
    "#                               [0, .25, .5, .75, 1],\n",
    "#                               labels=Fare_bucket)"
   ]
  },
  {
   "cell_type": "markdown",
   "metadata": {},
   "source": [
    "## Data Analysis"
   ]
  },
  {
   "cell_type": "code",
   "execution_count": 30,
   "metadata": {},
   "outputs": [],
   "source": [
    "# Created a function to plot bar graph across multiple features\n",
    "def plotBarGraph(df,xLabel,yLabel,graphSize=[]):\n",
    "    barData = df.plot(kind=\"bar\",figsize=graphSize)\n",
    "    barData.set_xlabel(xLabel)\n",
    "    barData.set_ylabel(yLabel)\n",
    "\n",
    "    for p in barData.patches:\n",
    "        barData.annotate(np.round(p.get_height(),decimals=2), (p.get_x()+p.get_width()/2, p.get_height()), ha='center')"
   ]
  },
  {
   "cell_type": "code",
   "execution_count": 31,
   "metadata": {
    "scrolled": true
   },
   "outputs": [
    {
     "data": {
      "text/html": [
       "<div>\n",
       "<style scoped>\n",
       "    .dataframe tbody tr th:only-of-type {\n",
       "        vertical-align: middle;\n",
       "    }\n",
       "\n",
       "    .dataframe tbody tr th {\n",
       "        vertical-align: top;\n",
       "    }\n",
       "\n",
       "    .dataframe thead th {\n",
       "        text-align: right;\n",
       "    }\n",
       "</style>\n",
       "<table border=\"1\" class=\"dataframe\">\n",
       "  <thead>\n",
       "    <tr style=\"text-align: right;\">\n",
       "      <th></th>\n",
       "      <th>PassengerId</th>\n",
       "      <th>Survived</th>\n",
       "      <th>Pclass</th>\n",
       "      <th>Name</th>\n",
       "      <th>Sex</th>\n",
       "      <th>Age</th>\n",
       "      <th>SibSp</th>\n",
       "      <th>Parch</th>\n",
       "      <th>Ticket</th>\n",
       "      <th>Fare</th>\n",
       "      <th>Cabin</th>\n",
       "      <th>Embarked</th>\n",
       "      <th>Salutation</th>\n",
       "      <th>Age_bucket</th>\n",
       "      <th>Master</th>\n",
       "      <th>Family</th>\n",
       "      <th>Alone</th>\n",
       "      <th>Fare_bucket</th>\n",
       "    </tr>\n",
       "  </thead>\n",
       "  <tbody>\n",
       "    <tr>\n",
       "      <th>0</th>\n",
       "      <td>1</td>\n",
       "      <td>0</td>\n",
       "      <td>Lower</td>\n",
       "      <td>Braund, Mr. Owen Harris</td>\n",
       "      <td>male</td>\n",
       "      <td>22.0</td>\n",
       "      <td>1</td>\n",
       "      <td>0</td>\n",
       "      <td>A/5 21171</td>\n",
       "      <td>7.2500</td>\n",
       "      <td>NaN</td>\n",
       "      <td>S</td>\n",
       "      <td>Mr</td>\n",
       "      <td>Adult</td>\n",
       "      <td>No</td>\n",
       "      <td>1</td>\n",
       "      <td>No</td>\n",
       "      <td>Low</td>\n",
       "    </tr>\n",
       "    <tr>\n",
       "      <th>1</th>\n",
       "      <td>2</td>\n",
       "      <td>1</td>\n",
       "      <td>Upper</td>\n",
       "      <td>Cumings, Mrs. John Bradley (Florence Briggs Th...</td>\n",
       "      <td>female</td>\n",
       "      <td>38.0</td>\n",
       "      <td>1</td>\n",
       "      <td>0</td>\n",
       "      <td>PC 17599</td>\n",
       "      <td>71.2833</td>\n",
       "      <td>C85</td>\n",
       "      <td>C</td>\n",
       "      <td>Mrs</td>\n",
       "      <td>Adult</td>\n",
       "      <td>No</td>\n",
       "      <td>1</td>\n",
       "      <td>No</td>\n",
       "      <td>Very High</td>\n",
       "    </tr>\n",
       "    <tr>\n",
       "      <th>2</th>\n",
       "      <td>3</td>\n",
       "      <td>1</td>\n",
       "      <td>Lower</td>\n",
       "      <td>Heikkinen, Miss. Laina</td>\n",
       "      <td>female</td>\n",
       "      <td>26.0</td>\n",
       "      <td>0</td>\n",
       "      <td>0</td>\n",
       "      <td>STON/O2. 3101282</td>\n",
       "      <td>7.9250</td>\n",
       "      <td>NaN</td>\n",
       "      <td>S</td>\n",
       "      <td>Miss</td>\n",
       "      <td>Adult</td>\n",
       "      <td>No</td>\n",
       "      <td>0</td>\n",
       "      <td>Yes</td>\n",
       "      <td>Medium</td>\n",
       "    </tr>\n",
       "    <tr>\n",
       "      <th>3</th>\n",
       "      <td>4</td>\n",
       "      <td>1</td>\n",
       "      <td>Upper</td>\n",
       "      <td>Futrelle, Mrs. Jacques Heath (Lily May Peel)</td>\n",
       "      <td>female</td>\n",
       "      <td>35.0</td>\n",
       "      <td>1</td>\n",
       "      <td>0</td>\n",
       "      <td>113803</td>\n",
       "      <td>53.1000</td>\n",
       "      <td>C123</td>\n",
       "      <td>S</td>\n",
       "      <td>Mrs</td>\n",
       "      <td>Adult</td>\n",
       "      <td>No</td>\n",
       "      <td>1</td>\n",
       "      <td>No</td>\n",
       "      <td>Very High</td>\n",
       "    </tr>\n",
       "    <tr>\n",
       "      <th>4</th>\n",
       "      <td>5</td>\n",
       "      <td>0</td>\n",
       "      <td>Lower</td>\n",
       "      <td>Allen, Mr. William Henry</td>\n",
       "      <td>male</td>\n",
       "      <td>35.0</td>\n",
       "      <td>0</td>\n",
       "      <td>0</td>\n",
       "      <td>373450</td>\n",
       "      <td>8.0500</td>\n",
       "      <td>NaN</td>\n",
       "      <td>S</td>\n",
       "      <td>Mr</td>\n",
       "      <td>Adult</td>\n",
       "      <td>No</td>\n",
       "      <td>0</td>\n",
       "      <td>Yes</td>\n",
       "      <td>Medium</td>\n",
       "    </tr>\n",
       "  </tbody>\n",
       "</table>\n",
       "</div>"
      ],
      "text/plain": [
       "   PassengerId  Survived Pclass  \\\n",
       "0            1         0  Lower   \n",
       "1            2         1  Upper   \n",
       "2            3         1  Lower   \n",
       "3            4         1  Upper   \n",
       "4            5         0  Lower   \n",
       "\n",
       "                                                Name     Sex   Age  SibSp  \\\n",
       "0                            Braund, Mr. Owen Harris    male  22.0      1   \n",
       "1  Cumings, Mrs. John Bradley (Florence Briggs Th...  female  38.0      1   \n",
       "2                             Heikkinen, Miss. Laina  female  26.0      0   \n",
       "3       Futrelle, Mrs. Jacques Heath (Lily May Peel)  female  35.0      1   \n",
       "4                           Allen, Mr. William Henry    male  35.0      0   \n",
       "\n",
       "   Parch            Ticket     Fare Cabin Embarked Salutation Age_bucket  \\\n",
       "0      0         A/5 21171   7.2500   NaN        S         Mr      Adult   \n",
       "1      0          PC 17599  71.2833   C85        C        Mrs      Adult   \n",
       "2      0  STON/O2. 3101282   7.9250   NaN        S       Miss      Adult   \n",
       "3      0            113803  53.1000  C123        S        Mrs      Adult   \n",
       "4      0            373450   8.0500   NaN        S         Mr      Adult   \n",
       "\n",
       "  Master  Family Alone Fare_bucket  \n",
       "0     No       1    No         Low  \n",
       "1     No       1    No   Very High  \n",
       "2     No       0   Yes      Medium  \n",
       "3     No       1    No   Very High  \n",
       "4     No       0   Yes      Medium  "
      ]
     },
     "execution_count": 31,
     "metadata": {},
     "output_type": "execute_result"
    }
   ],
   "source": [
    "# Printing some rows before proceeding with univariate analysis\n",
    "data.head()"
   ]
  },
  {
   "cell_type": "code",
   "execution_count": 32,
   "metadata": {},
   "outputs": [
    {
     "data": {
      "image/png": "[encoded data removed]",
      "text/plain": [
       "<Figure size 432x288 with 1 Axes>"
      ]
     },
     "metadata": {},
     "output_type": "display_data"
    }
   ],
   "source": [
    "# Plot the percentage of Survived vs Non Survived Cases\n",
    "# 1 for survived, 0 for deceased\n",
    "plt.title('Survival Percentage of the Passengers')\n",
    "data['Survived'].value_counts().plot.pie(autopct='%1.1f%%')\n",
    "plt.show()"
   ]
  },
  {
   "cell_type": "code",
   "execution_count": 33,
   "metadata": {
    "scrolled": false
   },
   "outputs": [
    {
     "data": {
      "text/plain": [
       "<matplotlib.axes._subplots.AxesSubplot at 0x160085fc370>"
      ]
     },
     "execution_count": 33,
     "metadata": {},
     "output_type": "execute_result"
    },
    {
     "data": {
      "image/png": "[encoded data removed]",
      "text/plain": [
       "<Figure size 432x288 with 1 Axes>"
      ]
     },
     "metadata": {
      "needs_background": "light"
     },
     "output_type": "display_data"
    }
   ],
   "source": [
    "# Checking the spread of values in Embarked feature\n",
    "data['Embarked'].value_counts().plot.bar()"
   ]
  },
  {
   "cell_type": "code",
   "execution_count": 34,
   "metadata": {
    "scrolled": true
   },
   "outputs": [
    {
     "data": {
      "text/plain": [
       "B96 B98            4\n",
       "C23 C25 C27        4\n",
       "G6                 4\n",
       "D                  3\n",
       "F2                 3\n",
       "E101               3\n",
       "C22 C26            3\n",
       "F33                3\n",
       "B28                2\n",
       "D20                2\n",
       "D35                2\n",
       "B49                2\n",
       "C125               2\n",
       "C78                2\n",
       "B51 B53 B55        2\n",
       "E8                 2\n",
       "F4                 2\n",
       "E121               2\n",
       "C93                2\n",
       "B58 B60            2\n",
       "E25                2\n",
       "C126               2\n",
       "C68                2\n",
       "C65                2\n",
       "F G73              2\n",
       "C52                2\n",
       "E67                2\n",
       "C124               2\n",
       "B57 B59 B63 B66    2\n",
       "C2                 2\n",
       "B5                 2\n",
       "E44                2\n",
       "B20                2\n",
       "B18                2\n",
       "C92                2\n",
       "B22                2\n",
       "B35                2\n",
       "E33                2\n",
       "D26                2\n",
       "E24                2\n",
       "D36                2\n",
       "C83                2\n",
       "C123               2\n",
       "D17                2\n",
       "D33                2\n",
       "B77                2\n",
       "A14                1\n",
       "C49                1\n",
       "D48                1\n",
       "C54                1\n",
       "D28                1\n",
       "D46                1\n",
       "A24                1\n",
       "A34                1\n",
       "C106               1\n",
       "E68                1\n",
       "A6                 1\n",
       "B79                1\n",
       "C110               1\n",
       "C111               1\n",
       "D11                1\n",
       "C104               1\n",
       "B102               1\n",
       "E40                1\n",
       "B101               1\n",
       "A32                1\n",
       "E31                1\n",
       "B42                1\n",
       "F G63              1\n",
       "E17                1\n",
       "T                  1\n",
       "E34                1\n",
       "C50                1\n",
       "B4                 1\n",
       "C45                1\n",
       "D49                1\n",
       "B38                1\n",
       "E46                1\n",
       "E12                1\n",
       "D15                1\n",
       "C62 C64            1\n",
       "C90                1\n",
       "D50                1\n",
       "E38                1\n",
       "E63                1\n",
       "E50                1\n",
       "C101               1\n",
       "F38                1\n",
       "C95                1\n",
       "A26                1\n",
       "E58                1\n",
       "A31                1\n",
       "D7                 1\n",
       "D10 D12            1\n",
       "C86                1\n",
       "D47                1\n",
       "C118               1\n",
       "B69                1\n",
       "B39                1\n",
       "B94                1\n",
       "C82                1\n",
       "B78                1\n",
       "D30                1\n",
       "A36                1\n",
       "D9                 1\n",
       "F E69              1\n",
       "D6                 1\n",
       "D19                1\n",
       "C99                1\n",
       "A16                1\n",
       "C148               1\n",
       "C30                1\n",
       "E77                1\n",
       "E49                1\n",
       "B41                1\n",
       "B80                1\n",
       "B19                1\n",
       "A19                1\n",
       "B3                 1\n",
       "B82 B84            1\n",
       "B86                1\n",
       "A5                 1\n",
       "A10                1\n",
       "B30                1\n",
       "C85                1\n",
       "C128               1\n",
       "C70                1\n",
       "A20                1\n",
       "C47                1\n",
       "C91                1\n",
       "B73                1\n",
       "D56                1\n",
       "C46                1\n",
       "D45                1\n",
       "D37                1\n",
       "A23                1\n",
       "C87                1\n",
       "A7                 1\n",
       "D21                1\n",
       "C103               1\n",
       "E10                1\n",
       "B37                1\n",
       "B71                1\n",
       "C7                 1\n",
       "E36                1\n",
       "C32                1\n",
       "B50                1\n",
       "Name: Cabin, dtype: int64"
      ]
     },
     "execution_count": 34,
     "metadata": {},
     "output_type": "execute_result"
    }
   ],
   "source": [
    "# Checking the spread of values in Cabin feature\n",
    "data['Cabin'].value_counts()"
   ]
  },
  {
   "cell_type": "code",
   "execution_count": 35,
   "metadata": {},
   "outputs": [
    {
     "data": {
      "text/plain": [
       "<matplotlib.axes._subplots.AxesSubplot at 0x160086a7880>"
      ]
     },
     "execution_count": 35,
     "metadata": {},
     "output_type": "execute_result"
    },
    {
     "data": {
      "image/png": "[encoded data removed]",
      "text/plain": [
       "<Figure size 432x288 with 1 Axes>"
      ]
     },
     "metadata": {
      "needs_background": "light"
     },
     "output_type": "display_data"
    }
   ],
   "source": [
    "# Checking the spread of values across Age buckets\n",
    "data['Age_bucket'].value_counts().plot.bar()"
   ]
  },
  {
   "cell_type": "code",
   "execution_count": 36,
   "metadata": {},
   "outputs": [
    {
     "data": {
      "text/plain": [
       "<matplotlib.axes._subplots.AxesSubplot at 0x1600870c550>"
      ]
     },
     "execution_count": 36,
     "metadata": {},
     "output_type": "execute_result"
    },
    {
     "data": {
      "image/png": "[encoded data removed]",
      "text/plain": [
       "<Figure size 432x288 with 1 Axes>"
      ]
     },
     "metadata": {
      "needs_background": "light"
     },
     "output_type": "display_data"
    }
   ],
   "source": [
    "# Checking the spread of values in Pclass feature\n",
    "data['Pclass'].value_counts().plot.bar()"
   ]
  },
  {
   "cell_type": "code",
   "execution_count": 37,
   "metadata": {},
   "outputs": [
    {
     "data": {
      "text/plain": [
       "<matplotlib.axes._subplots.AxesSubplot at 0x160087639a0>"
      ]
     },
     "execution_count": 37,
     "metadata": {},
     "output_type": "execute_result"
    },
    {
     "data": {
      "image/png": "[encoded data removed]",
      "text/plain": [
       "<Figure size 432x288 with 1 Axes>"
      ]
     },
     "metadata": {
      "needs_background": "light"
     },
     "output_type": "display_data"
    }
   ],
   "source": [
    "# Checking the spread of values in Sex feature\n",
    "data['Sex'].value_counts().plot.bar()"
   ]
  },
  {
   "cell_type": "code",
   "execution_count": 38,
   "metadata": {},
   "outputs": [
    {
     "data": {
      "text/plain": [
       "<matplotlib.axes._subplots.AxesSubplot at 0x160085805b0>"
      ]
     },
     "execution_count": 38,
     "metadata": {},
     "output_type": "execute_result"
    },
    {
     "data": {
      "image/png": "[encoded data removed]",
      "text/plain": [
       "<Figure size 432x288 with 1 Axes>"
      ]
     },
     "metadata": {
      "needs_background": "light"
     },
     "output_type": "display_data"
    }
   ],
   "source": [
    "# Checking the spread of values in Family feature\n",
    "data['Family'].value_counts().plot.bar()"
   ]
  },
  {
   "cell_type": "code",
   "execution_count": 39,
   "metadata": {
    "scrolled": true
   },
   "outputs": [
    {
     "data": {
      "text/plain": [
       "0     537\n",
       "1     161\n",
       "2     102\n",
       "3      29\n",
       "5      22\n",
       "4      15\n",
       "6      12\n",
       "10      7\n",
       "7       6\n",
       "Name: Family, dtype: int64"
      ]
     },
     "execution_count": 39,
     "metadata": {},
     "output_type": "execute_result"
    }
   ],
   "source": [
    "# Checking the spread of values in Family feature\n",
    "data['Family'].value_counts()"
   ]
  },
  {
   "cell_type": "code",
   "execution_count": 40,
   "metadata": {
    "scrolled": true
   },
   "outputs": [
    {
     "data": {
      "text/plain": [
       "<matplotlib.axes._subplots.AxesSubplot at 0x160087d37f0>"
      ]
     },
     "execution_count": 40,
     "metadata": {},
     "output_type": "execute_result"
    },
    {
     "data": {
      "image/png": "[encoded data removed]",
      "text/plain": [
       "<Figure size 432x288 with 1 Axes>"
      ]
     },
     "metadata": {
      "needs_background": "light"
     },
     "output_type": "display_data"
    }
   ],
   "source": [
    "# Checking the spread of values in Alone feature\n",
    "data['Alone'].value_counts().plot.bar()"
   ]
  },
  {
   "cell_type": "code",
   "execution_count": 41,
   "metadata": {},
   "outputs": [
    {
     "data": {
      "text/plain": [
       "count    891.000000\n",
       "mean      32.204208\n",
       "std       49.693429\n",
       "min        0.000000\n",
       "25%        7.910400\n",
       "50%       14.454200\n",
       "75%       31.000000\n",
       "max      512.329200\n",
       "Name: Fare, dtype: float64"
      ]
     },
     "execution_count": 41,
     "metadata": {},
     "output_type": "execute_result"
    }
   ],
   "source": [
    "# Checking the Fare distribution\n",
    "data['Fare'].describe()"
   ]
  },
  {
   "cell_type": "code",
   "execution_count": 42,
   "metadata": {
    "scrolled": true
   },
   "outputs": [
    {
     "data": {
      "text/plain": [
       "<matplotlib.axes._subplots.AxesSubplot at 0x160097fe130>"
      ]
     },
     "execution_count": 42,
     "metadata": {},
     "output_type": "execute_result"
    },
    {
     "data": {
      "image/png": "[encoded data removed]",
      "text/plain": [
       "<Figure size 432x288 with 1 Axes>"
      ]
     },
     "metadata": {
      "needs_background": "light"
     },
     "output_type": "display_data"
    }
   ],
   "source": [
    "# Checking the spread of values in Fare bucket feature\n",
    "data['Fare_bucket'].value_counts().plot.bar()"
   ]
  },
  {
   "cell_type": "code",
   "execution_count": 43,
   "metadata": {},
   "outputs": [
    {
     "name": "stdout",
     "output_type": "stream",
     "text": [
      "<class 'pandas.core.frame.DataFrame'>\n",
      "RangeIndex: 891 entries, 0 to 890\n",
      "Data columns (total 18 columns):\n",
      " #   Column       Non-Null Count  Dtype   \n",
      "---  ------       --------------  -----   \n",
      " 0   PassengerId  891 non-null    int64   \n",
      " 1   Survived     891 non-null    int64   \n",
      " 2   Pclass       891 non-null    object  \n",
      " 3   Name         891 non-null    object  \n",
      " 4   Sex          891 non-null    object  \n",
      " 5   Age          891 non-null    float64 \n",
      " 6   SibSp        891 non-null    int64   \n",
      " 7   Parch        891 non-null    int64   \n",
      " 8   Ticket       891 non-null    object  \n",
      " 9   Fare         891 non-null    float64 \n",
      " 10  Cabin        204 non-null    object  \n",
      " 11  Embarked     891 non-null    object  \n",
      " 12  Salutation   891 non-null    object  \n",
      " 13  Age_bucket   891 non-null    category\n",
      " 14  Master       891 non-null    object  \n",
      " 15  Family       891 non-null    int64   \n",
      " 16  Alone        891 non-null    object  \n",
      " 17  Fare_bucket  891 non-null    category\n",
      "dtypes: category(2), float64(2), int64(5), object(9)\n",
      "memory usage: 113.6+ KB\n"
     ]
    }
   ],
   "source": [
    "# Checking for variable dtypes and also checking for existence of any null values any further\n",
    "data.info()"
   ]
  },
  {
   "cell_type": "code",
   "execution_count": 44,
   "metadata": {},
   "outputs": [
    {
     "data": {
      "image/png": "[encoded data removed]",
      "text/plain": [
       "<Figure size 1080x1440 with 4 Axes>"
      ]
     },
     "metadata": {
      "needs_background": "light"
     },
     "output_type": "display_data"
    }
   ],
   "source": [
    "# Plotting the distribution plot for some of variables\n",
    "cols = ['Age','Fare','Family','Survived']\n",
    "fig = plt.figure(figsize=(15,20),edgecolor='b')\n",
    "\n",
    "for i,col in enumerate(cols):\n",
    "    i=i+1\n",
    "    plt.subplot(3,2,i)\n",
    "    plt.title(col+' distribution plot')\n",
    "    sns.distplot(data[col]) "
   ]
  },
  {
   "cell_type": "code",
   "execution_count": 45,
   "metadata": {
    "scrolled": false
   },
   "outputs": [
    {
     "data": {
      "text/html": [
       "<div>\n",
       "<style scoped>\n",
       "    .dataframe tbody tr th:only-of-type {\n",
       "        vertical-align: middle;\n",
       "    }\n",
       "\n",
       "    .dataframe tbody tr th {\n",
       "        vertical-align: top;\n",
       "    }\n",
       "\n",
       "    .dataframe thead th {\n",
       "        text-align: right;\n",
       "    }\n",
       "</style>\n",
       "<table border=\"1\" class=\"dataframe\">\n",
       "  <thead>\n",
       "    <tr style=\"text-align: right;\">\n",
       "      <th></th>\n",
       "      <th>PassengerId</th>\n",
       "      <th>Survived</th>\n",
       "      <th>Pclass</th>\n",
       "      <th>Name</th>\n",
       "      <th>Sex</th>\n",
       "      <th>Age</th>\n",
       "      <th>SibSp</th>\n",
       "      <th>Parch</th>\n",
       "      <th>Ticket</th>\n",
       "      <th>Fare</th>\n",
       "      <th>Cabin</th>\n",
       "      <th>Embarked</th>\n",
       "      <th>Salutation</th>\n",
       "      <th>Age_bucket</th>\n",
       "      <th>Master</th>\n",
       "      <th>Family</th>\n",
       "      <th>Alone</th>\n",
       "      <th>Fare_bucket</th>\n",
       "    </tr>\n",
       "  </thead>\n",
       "  <tbody>\n",
       "    <tr>\n",
       "      <th>0</th>\n",
       "      <td>1</td>\n",
       "      <td>0</td>\n",
       "      <td>Lower</td>\n",
       "      <td>Braund, Mr. Owen Harris</td>\n",
       "      <td>male</td>\n",
       "      <td>22.0</td>\n",
       "      <td>1</td>\n",
       "      <td>0</td>\n",
       "      <td>A/5 21171</td>\n",
       "      <td>7.2500</td>\n",
       "      <td>NaN</td>\n",
       "      <td>S</td>\n",
       "      <td>Mr</td>\n",
       "      <td>Adult</td>\n",
       "      <td>No</td>\n",
       "      <td>1</td>\n",
       "      <td>No</td>\n",
       "      <td>Low</td>\n",
       "    </tr>\n",
       "    <tr>\n",
       "      <th>1</th>\n",
       "      <td>2</td>\n",
       "      <td>1</td>\n",
       "      <td>Upper</td>\n",
       "      <td>Cumings, Mrs. John Bradley (Florence Briggs Th...</td>\n",
       "      <td>female</td>\n",
       "      <td>38.0</td>\n",
       "      <td>1</td>\n",
       "      <td>0</td>\n",
       "      <td>PC 17599</td>\n",
       "      <td>71.2833</td>\n",
       "      <td>C85</td>\n",
       "      <td>C</td>\n",
       "      <td>Mrs</td>\n",
       "      <td>Adult</td>\n",
       "      <td>No</td>\n",
       "      <td>1</td>\n",
       "      <td>No</td>\n",
       "      <td>Very High</td>\n",
       "    </tr>\n",
       "  </tbody>\n",
       "</table>\n",
       "</div>"
      ],
      "text/plain": [
       "   PassengerId  Survived Pclass  \\\n",
       "0            1         0  Lower   \n",
       "1            2         1  Upper   \n",
       "\n",
       "                                                Name     Sex   Age  SibSp  \\\n",
       "0                            Braund, Mr. Owen Harris    male  22.0      1   \n",
       "1  Cumings, Mrs. John Bradley (Florence Briggs Th...  female  38.0      1   \n",
       "\n",
       "   Parch     Ticket     Fare Cabin Embarked Salutation Age_bucket Master  \\\n",
       "0      0  A/5 21171   7.2500   NaN        S         Mr      Adult     No   \n",
       "1      0   PC 17599  71.2833   C85        C        Mrs      Adult     No   \n",
       "\n",
       "   Family Alone Fare_bucket  \n",
       "0       1    No         Low  \n",
       "1       1    No   Very High  "
      ]
     },
     "execution_count": 45,
     "metadata": {},
     "output_type": "execute_result"
    }
   ],
   "source": [
    "# Checking for some of the rows to proceed with further analysis\n",
    "data.head(2)"
   ]
  },
  {
   "cell_type": "code",
   "execution_count": 46,
   "metadata": {
    "scrolled": true
   },
   "outputs": [
    {
     "data": {
      "text/plain": [
       "Lower     491\n",
       "Upper     216\n",
       "Middle    184\n",
       "Name: Pclass, dtype: int64"
      ]
     },
     "execution_count": 46,
     "metadata": {},
     "output_type": "execute_result"
    }
   ],
   "source": [
    "# Checking for the distribution of values in Pclass\n",
    "data.Pclass.value_counts()"
   ]
  },
  {
   "cell_type": "code",
   "execution_count": 47,
   "metadata": {
    "scrolled": true
   },
   "outputs": [
    {
     "data": {
      "text/plain": [
       "Text(0.5, 1.0, 'Training Data - Percentage of people survived on the basis of class')"
      ]
     },
     "execution_count": 47,
     "metadata": {},
     "output_type": "execute_result"
    },
    {
     "data": {
      "image/png": "[encoded data removed]",
      "text/plain": [
       "<Figure size 432x288 with 1 Axes>"
      ]
     },
     "metadata": {
      "needs_background": "light"
     },
     "output_type": "display_data"
    }
   ],
   "source": [
    "# Checking the Percentage of people survived and Not Survived on the basis of class\n",
    "pclass_Lower_survivor_dist = round((data[data.Pclass == 'Lower'].Survived == 1).value_counts()[1] / len(data[data.Pclass == 'Lower']) * 100,2)\n",
    "pclass_Middle_survivor_dist = round((data[data.Pclass == 'Middle'].Survived == 1).value_counts()[1] / len(data[data.Pclass == 'Middle']) * 100,2)\n",
    "pclass_Upper_survivor_dist = round((data[data.Pclass == 'Upper'].Survived == 1).value_counts()[1] / len(data[data.Pclass == 'Upper']) * 100,2)\n",
    "\n",
    "pclass_perc_df = pd.DataFrame(\n",
    "    { \"Percentage Survived\":{\"Lower Class\": pclass_Lower_survivor_dist,\"Middle Class\": pclass_Middle_survivor_dist, \"Upper Class\": pclass_Upper_survivor_dist},  \n",
    "     \"Percentage Not Survived\":{\"Lower Class\": 100-pclass_Lower_survivor_dist,\"Middle Class\": 100-pclass_Middle_survivor_dist, \"Upper Class\": 100-pclass_Upper_survivor_dist}})\n",
    "pclass_perc_df.plot.bar().set_title(\"Training Data - Percentage of people survived on the basis of class\")"
   ]
  },
  {
   "cell_type": "code",
   "execution_count": 48,
   "metadata": {
    "scrolled": true
   },
   "outputs": [
    {
     "data": {
      "text/plain": [
       "male      577\n",
       "female    314\n",
       "Name: Sex, dtype: int64"
      ]
     },
     "execution_count": 48,
     "metadata": {},
     "output_type": "execute_result"
    }
   ],
   "source": [
    "# Checking for the distribution of values in Sex\n",
    "data.Sex.value_counts()"
   ]
  },
  {
   "cell_type": "code",
   "execution_count": 49,
   "metadata": {
    "scrolled": true
   },
   "outputs": [
    {
     "data": {
      "text/plain": [
       "Text(0.5, 1.0, 'Training Data - Percentage of male/female survived')"
      ]
     },
     "execution_count": 49,
     "metadata": {},
     "output_type": "execute_result"
    },
    {
     "data": {
      "image/png": "[encoded data removed]",
      "text/plain": [
       "<Figure size 432x288 with 1 Axes>"
      ]
     },
     "metadata": {
      "needs_background": "light"
     },
     "output_type": "display_data"
    }
   ],
   "source": [
    "# Checking the Percentage of people survived and Not Survived on the basis of Sex\n",
    "Sex_male_survivor_dist = round((data[data.Sex == 'male'].Survived == 1).value_counts()[1] / len(data[data.Sex == 'male']) * 100,2)\n",
    "Sex_female_survivor_dist = round((data[data.Sex == 'female'].Survived == 1).value_counts()[1] / len(data[data.Sex == 'female']) * 100,2)\n",
    "\n",
    "Sex_perc_df = pd.DataFrame(\n",
    "    { \"Percentage Survived\":{\"Male Class\": Sex_male_survivor_dist,\"Female Class\": Sex_female_survivor_dist },  \n",
    "     \"Percentage Not Survived\":{\"Male Class\": 100-Sex_male_survivor_dist,\"Female Class\": 100-Sex_female_survivor_dist}})\n",
    "Sex_perc_df.plot.bar().set_title(\"Training Data - Percentage of male/female survived\")"
   ]
  },
  {
   "cell_type": "code",
   "execution_count": 50,
   "metadata": {
    "scrolled": false
   },
   "outputs": [
    {
     "data": {
      "text/plain": [
       "Adult            689\n",
       "Adolescence      103\n",
       "Child             73\n",
       "SeniorCitizen     26\n",
       "Name: Age_bucket, dtype: int64"
      ]
     },
     "execution_count": 50,
     "metadata": {},
     "output_type": "execute_result"
    }
   ],
   "source": [
    "# Checking for the distribution of values in Age buckets\n",
    "data.Age_bucket.value_counts()"
   ]
  },
  {
   "cell_type": "code",
   "execution_count": 51,
   "metadata": {
    "scrolled": false
   },
   "outputs": [
    {
     "data": {
      "text/plain": [
       "Text(0.5, 1.0, 'Training Data - Percentage of people survived on the basis of Age Buckets')"
      ]
     },
     "execution_count": 51,
     "metadata": {},
     "output_type": "execute_result"
    },
    {
     "data": {
      "image/png": "[encoded data removed]",
      "text/plain": [
       "<Figure size 432x288 with 1 Axes>"
      ]
     },
     "metadata": {
      "needs_background": "light"
     },
     "output_type": "display_data"
    }
   ],
   "source": [
    "# Checking the Percentage of people survived and Not Survived on the basis of Age buckets\n",
    "Adult_survivor_dist = round((data[data.Age_bucket == 'Adult'].Survived == 1).value_counts()[1] / len(data[data.Age_bucket == 'Adult']) * 100,2)\n",
    "Adolescence_survivor_dist = round((data[data.Age_bucket == 'Adolescence'].Survived == 1).value_counts()[1] / len(data[data.Age_bucket == 'Adolescence']) * 100,2)\n",
    "Child_survivor_dist = round((data[data.Age_bucket == 'Child'].Survived == 1).value_counts()[1] / len(data[data.Age_bucket == 'Child']) * 100,2)\n",
    "SeniorCitizen_survivor_dist = round((data[data.Age_bucket == 'SeniorCitizen'].Survived == 1).value_counts()[1] / len(data[data.Age_bucket == 'SeniorCitizen']) * 100,2)\n",
    "\n",
    "Sex_perc_df = pd.DataFrame(\n",
    "    { \"Percentage Survived\":{\"Adult\": Adult_survivor_dist,\"Adolescence\": Adolescence_survivor_dist,\"Child\":Child_survivor_dist ,\"SeniorCitizen\":SeniorCitizen_survivor_dist },  \n",
    "      \"Percentage Not Survived\":{\"Adult\": 100-Adult_survivor_dist,\"Adolescence\": 100-Adolescence_survivor_dist,\"Child\":100-Child_survivor_dist ,\"SeniorCitizen\":100-SeniorCitizen_survivor_dist }})\n",
    "Sex_perc_df.plot.bar().set_title(\"Training Data - Percentage of people survived on the basis of Age Buckets\")"
   ]
  },
  {
   "cell_type": "code",
   "execution_count": 52,
   "metadata": {
    "scrolled": true
   },
   "outputs": [
    {
     "data": {
      "text/plain": [
       "Medium       224\n",
       "Low          223\n",
       "Very High    222\n",
       "High         222\n",
       "Name: Fare_bucket, dtype: int64"
      ]
     },
     "execution_count": 52,
     "metadata": {},
     "output_type": "execute_result"
    }
   ],
   "source": [
    "# Checking for the distribution of values in Fare buckets\n",
    "data.Fare_bucket.value_counts()"
   ]
  },
  {
   "cell_type": "code",
   "execution_count": 53,
   "metadata": {
    "scrolled": false
   },
   "outputs": [
    {
     "data": {
      "text/plain": [
       "Text(0.5, 1.0, 'Training Data - Percentage of people survived on the basis of Fare Buckets')"
      ]
     },
     "execution_count": 53,
     "metadata": {},
     "output_type": "execute_result"
    },
    {
     "data": {
      "image/png": "[encoded data removed]",
      "text/plain": [
       "<Figure size 432x288 with 1 Axes>"
      ]
     },
     "metadata": {
      "needs_background": "light"
     },
     "output_type": "display_data"
    }
   ],
   "source": [
    "# Checking the Percentage of people survived and Not Survived on the basis of Fare buckets\n",
    "MediumFare_survivor_dist = round((data[data.Fare_bucket == 'Medium'].Survived == 1).value_counts()[1] / len(data[data.Fare_bucket == 'Medium']) * 100,2)\n",
    "LowFare_survivor_dist = round((data[data.Fare_bucket == 'Low'].Survived == 1).value_counts()[1] / len(data[data.Fare_bucket == 'Low']) * 100,2)\n",
    "VeryHighFare_survivor_dist = round((data[data.Fare_bucket == 'Very High'].Survived == 1).value_counts()[1] / len(data[data.Fare_bucket == 'Very High']) * 100,2)\n",
    "HighFare_survivor_dist = round((data[data.Fare_bucket == 'High'].Survived == 1).value_counts()[1] / len(data[data.Fare_bucket == 'High']) * 100,2)\n",
    "\n",
    "Fare_bucket_perc_df = pd.DataFrame(\n",
    "    { \"Percentage Survived\":{\"Low\": LowFare_survivor_dist,\"Medium\": MediumFare_survivor_dist,\"High\":HighFare_survivor_dist ,\"Very High\":VeryHighFare_survivor_dist },  \n",
    "      \"Percentage Not Survived\":{\"Low\": 100-LowFare_survivor_dist,\"Medium\": 100-MediumFare_survivor_dist,\"High\":100-HighFare_survivor_dist ,\"Very High\":100-VeryHighFare_survivor_dist }})\n",
    "Fare_bucket_perc_df.plot.bar().set_title(\"Training Data - Percentage of people survived on the basis of Fare Buckets\")"
   ]
  },
  {
   "cell_type": "code",
   "execution_count": 54,
   "metadata": {
    "scrolled": true
   },
   "outputs": [
    {
     "data": {
      "text/plain": [
       "S    646\n",
       "C    168\n",
       "Q     77\n",
       "Name: Embarked, dtype: int64"
      ]
     },
     "execution_count": 54,
     "metadata": {},
     "output_type": "execute_result"
    }
   ],
   "source": [
    "# Checking for the distribution of values in Embark feature\n",
    "data.Embarked.value_counts()"
   ]
  },
  {
   "cell_type": "code",
   "execution_count": 55,
   "metadata": {
    "scrolled": true
   },
   "outputs": [
    {
     "data": {
      "text/plain": [
       "Text(0.5, 1.0, 'Training Data - Percentage of people survived on the basis of Embark')"
      ]
     },
     "execution_count": 55,
     "metadata": {},
     "output_type": "execute_result"
    },
    {
     "data": {
      "image/png": "[encoded data removed]",
      "text/plain": [
       "<Figure size 432x288 with 1 Axes>"
      ]
     },
     "metadata": {
      "needs_background": "light"
     },
     "output_type": "display_data"
    }
   ],
   "source": [
    "# Checking the Percentage of people survived and Not Survived on the basis of Embark\n",
    "EmbarkS_survivor_dist = round((data[data.Embarked == 'S'].Survived == 1).value_counts()[1] / len(data[data.Embarked == 'S']) * 100,2)\n",
    "EmbarkC_survivor_dist = round((data[data.Embarked == 'C'].Survived == 1).value_counts()[1] / len(data[data.Embarked == 'C']) * 100,2)\n",
    "EmbarkQ_survivor_dist = round((data[data.Embarked == 'Q'].Survived == 1).value_counts()[1] / len(data[data.Embarked == 'Q']) * 100,2)\n",
    "\n",
    "Embark_perc_df = pd.DataFrame(\n",
    "    { \"Percentage Survived\":{\"S\": EmbarkS_survivor_dist,\"C\": EmbarkC_survivor_dist,\"Q\":EmbarkQ_survivor_dist },  \n",
    "      \"Percentage Not Survived\":{\"S\": 100-EmbarkS_survivor_dist,\"C\": 100-EmbarkC_survivor_dist,\"Q\":100-EmbarkQ_survivor_dist }})\n",
    "Embark_perc_df.plot.bar().set_title(\"Training Data - Percentage of people survived on the basis of Embark\")"
   ]
  },
  {
   "cell_type": "markdown",
   "metadata": {},
   "source": [
    "## Data preparation"
   ]
  },
  {
   "cell_type": "code",
   "execution_count": 56,
   "metadata": {
    "scrolled": false
   },
   "outputs": [
    {
     "data": {
      "text/html": [
       "<div>\n",
       "<style scoped>\n",
       "    .dataframe tbody tr th:only-of-type {\n",
       "        vertical-align: middle;\n",
       "    }\n",
       "\n",
       "    .dataframe tbody tr th {\n",
       "        vertical-align: top;\n",
       "    }\n",
       "\n",
       "    .dataframe thead th {\n",
       "        text-align: right;\n",
       "    }\n",
       "</style>\n",
       "<table border=\"1\" class=\"dataframe\">\n",
       "  <thead>\n",
       "    <tr style=\"text-align: right;\">\n",
       "      <th></th>\n",
       "      <th>PassengerId</th>\n",
       "      <th>Survived</th>\n",
       "      <th>Pclass</th>\n",
       "      <th>Name</th>\n",
       "      <th>Sex</th>\n",
       "      <th>Age</th>\n",
       "      <th>SibSp</th>\n",
       "      <th>Parch</th>\n",
       "      <th>Ticket</th>\n",
       "      <th>Fare</th>\n",
       "      <th>Cabin</th>\n",
       "      <th>Embarked</th>\n",
       "      <th>Salutation</th>\n",
       "      <th>Age_bucket</th>\n",
       "      <th>Master</th>\n",
       "      <th>Family</th>\n",
       "      <th>Alone</th>\n",
       "      <th>Fare_bucket</th>\n",
       "    </tr>\n",
       "  </thead>\n",
       "  <tbody>\n",
       "    <tr>\n",
       "      <th>0</th>\n",
       "      <td>1</td>\n",
       "      <td>0</td>\n",
       "      <td>Lower</td>\n",
       "      <td>Braund, Mr. Owen Harris</td>\n",
       "      <td>male</td>\n",
       "      <td>22.0</td>\n",
       "      <td>1</td>\n",
       "      <td>0</td>\n",
       "      <td>A/5 21171</td>\n",
       "      <td>7.25</td>\n",
       "      <td>NaN</td>\n",
       "      <td>S</td>\n",
       "      <td>Mr</td>\n",
       "      <td>Adult</td>\n",
       "      <td>No</td>\n",
       "      <td>1</td>\n",
       "      <td>No</td>\n",
       "      <td>Low</td>\n",
       "    </tr>\n",
       "  </tbody>\n",
       "</table>\n",
       "</div>"
      ],
      "text/plain": [
       "   PassengerId  Survived Pclass                     Name   Sex   Age  SibSp  \\\n",
       "0            1         0  Lower  Braund, Mr. Owen Harris  male  22.0      1   \n",
       "\n",
       "   Parch     Ticket  Fare Cabin Embarked Salutation Age_bucket Master  Family  \\\n",
       "0      0  A/5 21171  7.25   NaN        S         Mr      Adult     No       1   \n",
       "\n",
       "  Alone Fare_bucket  \n",
       "0    No         Low  "
      ]
     },
     "execution_count": 56,
     "metadata": {},
     "output_type": "execute_result"
    }
   ],
   "source": [
    "# Printing some rows from the dataframe\n",
    "data.head(1)"
   ]
  },
  {
   "cell_type": "code",
   "execution_count": 57,
   "metadata": {},
   "outputs": [],
   "source": [
    "# Identified some columns against which new features have been derived or if the feature is not adding any value or \n",
    "# there are lot of missing values\n",
    "cols = ['PassengerId','Name','Age','SibSp','Parch','Ticket','Fare','Cabin','Salutation']\n",
    "data = data.drop(cols, axis=1)"
   ]
  },
  {
   "cell_type": "code",
   "execution_count": 58,
   "metadata": {},
   "outputs": [
    {
     "data": {
      "text/html": [
       "<div>\n",
       "<style scoped>\n",
       "    .dataframe tbody tr th:only-of-type {\n",
       "        vertical-align: middle;\n",
       "    }\n",
       "\n",
       "    .dataframe tbody tr th {\n",
       "        vertical-align: top;\n",
       "    }\n",
       "\n",
       "    .dataframe thead th {\n",
       "        text-align: right;\n",
       "    }\n",
       "</style>\n",
       "<table border=\"1\" class=\"dataframe\">\n",
       "  <thead>\n",
       "    <tr style=\"text-align: right;\">\n",
       "      <th></th>\n",
       "      <th>Survived</th>\n",
       "      <th>Pclass</th>\n",
       "      <th>Sex</th>\n",
       "      <th>Embarked</th>\n",
       "      <th>Age_bucket</th>\n",
       "      <th>Master</th>\n",
       "      <th>Family</th>\n",
       "      <th>Alone</th>\n",
       "      <th>Fare_bucket</th>\n",
       "    </tr>\n",
       "  </thead>\n",
       "  <tbody>\n",
       "    <tr>\n",
       "      <th>0</th>\n",
       "      <td>0</td>\n",
       "      <td>Lower</td>\n",
       "      <td>male</td>\n",
       "      <td>S</td>\n",
       "      <td>Adult</td>\n",
       "      <td>No</td>\n",
       "      <td>1</td>\n",
       "      <td>No</td>\n",
       "      <td>Low</td>\n",
       "    </tr>\n",
       "  </tbody>\n",
       "</table>\n",
       "</div>"
      ],
      "text/plain": [
       "   Survived Pclass   Sex Embarked Age_bucket Master  Family Alone Fare_bucket\n",
       "0         0  Lower  male        S      Adult     No       1    No         Low"
      ]
     },
     "execution_count": 58,
     "metadata": {},
     "output_type": "execute_result"
    }
   ],
   "source": [
    "# Printing a row from the dataframe to check the updated list of columns\n",
    "data.head(1)"
   ]
  },
  {
   "cell_type": "code",
   "execution_count": 59,
   "metadata": {},
   "outputs": [],
   "source": [
    "# Converting the Family feature to categorical\n",
    "data['Family'] = data['Family'].astype('object')"
   ]
  },
  {
   "cell_type": "code",
   "execution_count": 60,
   "metadata": {},
   "outputs": [
    {
     "data": {
      "text/plain": [
       "[]"
      ]
     },
     "execution_count": 60,
     "metadata": {},
     "output_type": "execute_result"
    }
   ],
   "source": [
    "# Removing the Survived feature that is the target feature from the numeric column list as we are going to apply some scaling\n",
    "numerics = ['int16', 'int32', 'int64', 'float16', 'float32', 'float64']\n",
    "data_num_cols = list(data.select_dtypes(include=numerics).columns)\n",
    "data_num_cols.remove('Survived')\n",
    "data_num_cols"
   ]
  },
  {
   "cell_type": "code",
   "execution_count": 61,
   "metadata": {},
   "outputs": [
    {
     "data": {
      "text/plain": [
       "['Pclass',\n",
       " 'Sex',\n",
       " 'Embarked',\n",
       " 'Age_bucket',\n",
       " 'Master',\n",
       " 'Family',\n",
       " 'Alone',\n",
       " 'Fare_bucket']"
      ]
     },
     "execution_count": 61,
     "metadata": {},
     "output_type": "execute_result"
    }
   ],
   "source": [
    "# Putting all the categorical features in a list\n",
    "data_cat_cols = list(data.select_dtypes(exclude=numerics).columns)\n",
    "data_cat_cols"
   ]
  },
  {
   "cell_type": "code",
   "execution_count": 62,
   "metadata": {},
   "outputs": [
    {
     "data": {
      "text/html": [
       "<div>\n",
       "<style scoped>\n",
       "    .dataframe tbody tr th:only-of-type {\n",
       "        vertical-align: middle;\n",
       "    }\n",
       "\n",
       "    .dataframe tbody tr th {\n",
       "        vertical-align: top;\n",
       "    }\n",
       "\n",
       "    .dataframe thead th {\n",
       "        text-align: right;\n",
       "    }\n",
       "</style>\n",
       "<table border=\"1\" class=\"dataframe\">\n",
       "  <thead>\n",
       "    <tr style=\"text-align: right;\">\n",
       "      <th></th>\n",
       "      <th>Pclass_Middle</th>\n",
       "      <th>Pclass_Upper</th>\n",
       "      <th>Sex_male</th>\n",
       "      <th>Embarked_Q</th>\n",
       "      <th>Embarked_S</th>\n",
       "      <th>Age_bucket_Adolescence</th>\n",
       "      <th>Age_bucket_Adult</th>\n",
       "      <th>Age_bucket_SeniorCitizen</th>\n",
       "      <th>Master_Yes</th>\n",
       "      <th>Family_1</th>\n",
       "      <th>Family_2</th>\n",
       "      <th>Family_3</th>\n",
       "      <th>Family_4</th>\n",
       "      <th>Family_5</th>\n",
       "      <th>Family_6</th>\n",
       "      <th>Family_7</th>\n",
       "      <th>Family_10</th>\n",
       "      <th>Alone_Yes</th>\n",
       "      <th>Fare_bucket_Medium</th>\n",
       "      <th>Fare_bucket_High</th>\n",
       "      <th>Fare_bucket_Very High</th>\n",
       "    </tr>\n",
       "  </thead>\n",
       "  <tbody>\n",
       "    <tr>\n",
       "      <th>0</th>\n",
       "      <td>0</td>\n",
       "      <td>0</td>\n",
       "      <td>1</td>\n",
       "      <td>0</td>\n",
       "      <td>1</td>\n",
       "      <td>0</td>\n",
       "      <td>1</td>\n",
       "      <td>0</td>\n",
       "      <td>0</td>\n",
       "      <td>1</td>\n",
       "      <td>0</td>\n",
       "      <td>0</td>\n",
       "      <td>0</td>\n",
       "      <td>0</td>\n",
       "      <td>0</td>\n",
       "      <td>0</td>\n",
       "      <td>0</td>\n",
       "      <td>0</td>\n",
       "      <td>0</td>\n",
       "      <td>0</td>\n",
       "      <td>0</td>\n",
       "    </tr>\n",
       "    <tr>\n",
       "      <th>1</th>\n",
       "      <td>0</td>\n",
       "      <td>1</td>\n",
       "      <td>0</td>\n",
       "      <td>0</td>\n",
       "      <td>0</td>\n",
       "      <td>0</td>\n",
       "      <td>1</td>\n",
       "      <td>0</td>\n",
       "      <td>0</td>\n",
       "      <td>1</td>\n",
       "      <td>0</td>\n",
       "      <td>0</td>\n",
       "      <td>0</td>\n",
       "      <td>0</td>\n",
       "      <td>0</td>\n",
       "      <td>0</td>\n",
       "      <td>0</td>\n",
       "      <td>0</td>\n",
       "      <td>0</td>\n",
       "      <td>0</td>\n",
       "      <td>1</td>\n",
       "    </tr>\n",
       "    <tr>\n",
       "      <th>2</th>\n",
       "      <td>0</td>\n",
       "      <td>0</td>\n",
       "      <td>0</td>\n",
       "      <td>0</td>\n",
       "      <td>1</td>\n",
       "      <td>0</td>\n",
       "      <td>1</td>\n",
       "      <td>0</td>\n",
       "      <td>0</td>\n",
       "      <td>0</td>\n",
       "      <td>0</td>\n",
       "      <td>0</td>\n",
       "      <td>0</td>\n",
       "      <td>0</td>\n",
       "      <td>0</td>\n",
       "      <td>0</td>\n",
       "      <td>0</td>\n",
       "      <td>1</td>\n",
       "      <td>1</td>\n",
       "      <td>0</td>\n",
       "      <td>0</td>\n",
       "    </tr>\n",
       "    <tr>\n",
       "      <th>3</th>\n",
       "      <td>0</td>\n",
       "      <td>1</td>\n",
       "      <td>0</td>\n",
       "      <td>0</td>\n",
       "      <td>1</td>\n",
       "      <td>0</td>\n",
       "      <td>1</td>\n",
       "      <td>0</td>\n",
       "      <td>0</td>\n",
       "      <td>1</td>\n",
       "      <td>0</td>\n",
       "      <td>0</td>\n",
       "      <td>0</td>\n",
       "      <td>0</td>\n",
       "      <td>0</td>\n",
       "      <td>0</td>\n",
       "      <td>0</td>\n",
       "      <td>0</td>\n",
       "      <td>0</td>\n",
       "      <td>0</td>\n",
       "      <td>1</td>\n",
       "    </tr>\n",
       "    <tr>\n",
       "      <th>4</th>\n",
       "      <td>0</td>\n",
       "      <td>0</td>\n",
       "      <td>1</td>\n",
       "      <td>0</td>\n",
       "      <td>1</td>\n",
       "      <td>0</td>\n",
       "      <td>1</td>\n",
       "      <td>0</td>\n",
       "      <td>0</td>\n",
       "      <td>0</td>\n",
       "      <td>0</td>\n",
       "      <td>0</td>\n",
       "      <td>0</td>\n",
       "      <td>0</td>\n",
       "      <td>0</td>\n",
       "      <td>0</td>\n",
       "      <td>0</td>\n",
       "      <td>1</td>\n",
       "      <td>1</td>\n",
       "      <td>0</td>\n",
       "      <td>0</td>\n",
       "    </tr>\n",
       "  </tbody>\n",
       "</table>\n",
       "</div>"
      ],
      "text/plain": [
       "   Pclass_Middle  Pclass_Upper  Sex_male  Embarked_Q  Embarked_S  \\\n",
       "0              0             0         1           0           1   \n",
       "1              0             1         0           0           0   \n",
       "2              0             0         0           0           1   \n",
       "3              0             1         0           0           1   \n",
       "4              0             0         1           0           1   \n",
       "\n",
       "   Age_bucket_Adolescence  Age_bucket_Adult  Age_bucket_SeniorCitizen  \\\n",
       "0                       0                 1                         0   \n",
       "1                       0                 1                         0   \n",
       "2                       0                 1                         0   \n",
       "3                       0                 1                         0   \n",
       "4                       0                 1                         0   \n",
       "\n",
       "   Master_Yes  Family_1  Family_2  Family_3  Family_4  Family_5  Family_6  \\\n",
       "0           0         1         0         0         0         0         0   \n",
       "1           0         1         0         0         0         0         0   \n",
       "2           0         0         0         0         0         0         0   \n",
       "3           0         1         0         0         0         0         0   \n",
       "4           0         0         0         0         0         0         0   \n",
       "\n",
       "   Family_7  Family_10  Alone_Yes  Fare_bucket_Medium  Fare_bucket_High  \\\n",
       "0         0          0          0                   0                 0   \n",
       "1         0          0          0                   0                 0   \n",
       "2         0          0          1                   1                 0   \n",
       "3         0          0          0                   0                 0   \n",
       "4         0          0          1                   1                 0   \n",
       "\n",
       "   Fare_bucket_Very High  \n",
       "0                      0  \n",
       "1                      1  \n",
       "2                      0  \n",
       "3                      1  \n",
       "4                      0  "
      ]
     },
     "execution_count": 62,
     "metadata": {},
     "output_type": "execute_result"
    }
   ],
   "source": [
    "# Coverting all the categorical features to dummy variables\n",
    "data_dummies = pd.get_dummies(data[data_cat_cols], drop_first=True)\n",
    "data_dummies.head()"
   ]
  },
  {
   "cell_type": "code",
   "execution_count": 63,
   "metadata": {
    "scrolled": true
   },
   "outputs": [],
   "source": [
    "# Post conversion to dummy variables dropping the original columns against which dummies are created\n",
    "data = data.drop(list(data_cat_cols), axis=1)"
   ]
  },
  {
   "cell_type": "code",
   "execution_count": 64,
   "metadata": {},
   "outputs": [
    {
     "data": {
      "text/html": [
       "<div>\n",
       "<style scoped>\n",
       "    .dataframe tbody tr th:only-of-type {\n",
       "        vertical-align: middle;\n",
       "    }\n",
       "\n",
       "    .dataframe tbody tr th {\n",
       "        vertical-align: top;\n",
       "    }\n",
       "\n",
       "    .dataframe thead th {\n",
       "        text-align: right;\n",
       "    }\n",
       "</style>\n",
       "<table border=\"1\" class=\"dataframe\">\n",
       "  <thead>\n",
       "    <tr style=\"text-align: right;\">\n",
       "      <th></th>\n",
       "      <th>Survived</th>\n",
       "      <th>Pclass_Middle</th>\n",
       "      <th>Pclass_Upper</th>\n",
       "      <th>Sex_male</th>\n",
       "      <th>Embarked_Q</th>\n",
       "      <th>Embarked_S</th>\n",
       "      <th>Age_bucket_Adolescence</th>\n",
       "      <th>Age_bucket_Adult</th>\n",
       "      <th>Age_bucket_SeniorCitizen</th>\n",
       "      <th>Master_Yes</th>\n",
       "      <th>Family_1</th>\n",
       "      <th>Family_2</th>\n",
       "      <th>Family_3</th>\n",
       "      <th>Family_4</th>\n",
       "      <th>Family_5</th>\n",
       "      <th>Family_6</th>\n",
       "      <th>Family_7</th>\n",
       "      <th>Family_10</th>\n",
       "      <th>Alone_Yes</th>\n",
       "      <th>Fare_bucket_Medium</th>\n",
       "      <th>Fare_bucket_High</th>\n",
       "      <th>Fare_bucket_Very High</th>\n",
       "    </tr>\n",
       "  </thead>\n",
       "  <tbody>\n",
       "    <tr>\n",
       "      <th>0</th>\n",
       "      <td>0</td>\n",
       "      <td>0</td>\n",
       "      <td>0</td>\n",
       "      <td>1</td>\n",
       "      <td>0</td>\n",
       "      <td>1</td>\n",
       "      <td>0</td>\n",
       "      <td>1</td>\n",
       "      <td>0</td>\n",
       "      <td>0</td>\n",
       "      <td>1</td>\n",
       "      <td>0</td>\n",
       "      <td>0</td>\n",
       "      <td>0</td>\n",
       "      <td>0</td>\n",
       "      <td>0</td>\n",
       "      <td>0</td>\n",
       "      <td>0</td>\n",
       "      <td>0</td>\n",
       "      <td>0</td>\n",
       "      <td>0</td>\n",
       "      <td>0</td>\n",
       "    </tr>\n",
       "    <tr>\n",
       "      <th>1</th>\n",
       "      <td>1</td>\n",
       "      <td>0</td>\n",
       "      <td>1</td>\n",
       "      <td>0</td>\n",
       "      <td>0</td>\n",
       "      <td>0</td>\n",
       "      <td>0</td>\n",
       "      <td>1</td>\n",
       "      <td>0</td>\n",
       "      <td>0</td>\n",
       "      <td>1</td>\n",
       "      <td>0</td>\n",
       "      <td>0</td>\n",
       "      <td>0</td>\n",
       "      <td>0</td>\n",
       "      <td>0</td>\n",
       "      <td>0</td>\n",
       "      <td>0</td>\n",
       "      <td>0</td>\n",
       "      <td>0</td>\n",
       "      <td>0</td>\n",
       "      <td>1</td>\n",
       "    </tr>\n",
       "    <tr>\n",
       "      <th>2</th>\n",
       "      <td>1</td>\n",
       "      <td>0</td>\n",
       "      <td>0</td>\n",
       "      <td>0</td>\n",
       "      <td>0</td>\n",
       "      <td>1</td>\n",
       "      <td>0</td>\n",
       "      <td>1</td>\n",
       "      <td>0</td>\n",
       "      <td>0</td>\n",
       "      <td>0</td>\n",
       "      <td>0</td>\n",
       "      <td>0</td>\n",
       "      <td>0</td>\n",
       "      <td>0</td>\n",
       "      <td>0</td>\n",
       "      <td>0</td>\n",
       "      <td>0</td>\n",
       "      <td>1</td>\n",
       "      <td>1</td>\n",
       "      <td>0</td>\n",
       "      <td>0</td>\n",
       "    </tr>\n",
       "    <tr>\n",
       "      <th>3</th>\n",
       "      <td>1</td>\n",
       "      <td>0</td>\n",
       "      <td>1</td>\n",
       "      <td>0</td>\n",
       "      <td>0</td>\n",
       "      <td>1</td>\n",
       "      <td>0</td>\n",
       "      <td>1</td>\n",
       "      <td>0</td>\n",
       "      <td>0</td>\n",
       "      <td>1</td>\n",
       "      <td>0</td>\n",
       "      <td>0</td>\n",
       "      <td>0</td>\n",
       "      <td>0</td>\n",
       "      <td>0</td>\n",
       "      <td>0</td>\n",
       "      <td>0</td>\n",
       "      <td>0</td>\n",
       "      <td>0</td>\n",
       "      <td>0</td>\n",
       "      <td>1</td>\n",
       "    </tr>\n",
       "    <tr>\n",
       "      <th>4</th>\n",
       "      <td>0</td>\n",
       "      <td>0</td>\n",
       "      <td>0</td>\n",
       "      <td>1</td>\n",
       "      <td>0</td>\n",
       "      <td>1</td>\n",
       "      <td>0</td>\n",
       "      <td>1</td>\n",
       "      <td>0</td>\n",
       "      <td>0</td>\n",
       "      <td>0</td>\n",
       "      <td>0</td>\n",
       "      <td>0</td>\n",
       "      <td>0</td>\n",
       "      <td>0</td>\n",
       "      <td>0</td>\n",
       "      <td>0</td>\n",
       "      <td>0</td>\n",
       "      <td>1</td>\n",
       "      <td>1</td>\n",
       "      <td>0</td>\n",
       "      <td>0</td>\n",
       "    </tr>\n",
       "  </tbody>\n",
       "</table>\n",
       "</div>"
      ],
      "text/plain": [
       "   Survived  Pclass_Middle  Pclass_Upper  Sex_male  Embarked_Q  Embarked_S  \\\n",
       "0         0              0             0         1           0           1   \n",
       "1         1              0             1         0           0           0   \n",
       "2         1              0             0         0           0           1   \n",
       "3         1              0             1         0           0           1   \n",
       "4         0              0             0         1           0           1   \n",
       "\n",
       "   Age_bucket_Adolescence  Age_bucket_Adult  Age_bucket_SeniorCitizen  \\\n",
       "0                       0                 1                         0   \n",
       "1                       0                 1                         0   \n",
       "2                       0                 1                         0   \n",
       "3                       0                 1                         0   \n",
       "4                       0                 1                         0   \n",
       "\n",
       "   Master_Yes  Family_1  Family_2  Family_3  Family_4  Family_5  Family_6  \\\n",
       "0           0         1         0         0         0         0         0   \n",
       "1           0         1         0         0         0         0         0   \n",
       "2           0         0         0         0         0         0         0   \n",
       "3           0         1         0         0         0         0         0   \n",
       "4           0         0         0         0         0         0         0   \n",
       "\n",
       "   Family_7  Family_10  Alone_Yes  Fare_bucket_Medium  Fare_bucket_High  \\\n",
       "0         0          0          0                   0                 0   \n",
       "1         0          0          0                   0                 0   \n",
       "2         0          0          1                   1                 0   \n",
       "3         0          0          0                   0                 0   \n",
       "4         0          0          1                   1                 0   \n",
       "\n",
       "   Fare_bucket_Very High  \n",
       "0                      0  \n",
       "1                      1  \n",
       "2                      0  \n",
       "3                      1  \n",
       "4                      0  "
      ]
     },
     "execution_count": 64,
     "metadata": {},
     "output_type": "execute_result"
    }
   ],
   "source": [
    "# Concatting all the dummy variables with the original dataframe\n",
    "data = pd.concat([data, data_dummies], axis=1)\n",
    "data.head()"
   ]
  },
  {
   "cell_type": "code",
   "execution_count": 65,
   "metadata": {},
   "outputs": [
    {
     "data": {
      "text/plain": [
       "(891, 22)"
      ]
     },
     "execution_count": 65,
     "metadata": {},
     "output_type": "execute_result"
    }
   ],
   "source": [
    "# Checking the size of the final dataframe\n",
    "data.shape"
   ]
  },
  {
   "cell_type": "code",
   "execution_count": 66,
   "metadata": {},
   "outputs": [],
   "source": [
    "# Dividing the entire data into X and y that is all independent feature into X and dependent feature to y\n",
    "X=data\n",
    "y=data.pop('Survived')"
   ]
  },
  {
   "cell_type": "code",
   "execution_count": 67,
   "metadata": {},
   "outputs": [],
   "source": [
    "# splitting into train and test set with 70:30 ratio\n",
    "X_train, X_test, y_train, y_test = train_test_split(X, y, test_size=0.3, random_state=1)"
   ]
  },
  {
   "cell_type": "markdown",
   "metadata": {},
   "source": [
    "## Model building"
   ]
  },
  {
   "cell_type": "code",
   "execution_count": 68,
   "metadata": {},
   "outputs": [],
   "source": [
    "# Created a function to perform and print the VIF\n",
    "def calc_vif(df):\n",
    "    vif=pd.DataFrame()\n",
    "    vif['Features']=df.columns\n",
    "    vif['VIF']=[variance_inflation_factor(df.values,i) for i in range(df.shape[1])]\n",
    "    vif['VIF']=round(vif['VIF'],2)\n",
    "    vif=vif.sort_values(by='VIF',ascending=False)\n",
    "    print(vif)"
   ]
  },
  {
   "cell_type": "code",
   "execution_count": 69,
   "metadata": {},
   "outputs": [
    {
     "data": {
      "text/html": [
       "<table class=\"simpletable\">\n",
       "<caption>Generalized Linear Model Regression Results</caption>\n",
       "<tr>\n",
       "  <th>Dep. Variable:</th>       <td>Survived</td>     <th>  No. Observations:  </th>  <td>   623</td> \n",
       "</tr>\n",
       "<tr>\n",
       "  <th>Model:</th>                  <td>GLM</td>       <th>  Df Residuals:      </th>  <td>   602</td> \n",
       "</tr>\n",
       "<tr>\n",
       "  <th>Model Family:</th>        <td>Binomial</td>     <th>  Df Model:          </th>  <td>    20</td> \n",
       "</tr>\n",
       "<tr>\n",
       "  <th>Link Function:</th>         <td>logit</td>      <th>  Scale:             </th> <td>  1.0000</td>\n",
       "</tr>\n",
       "<tr>\n",
       "  <th>Method:</th>                <td>IRLS</td>       <th>  Log-Likelihood:    </th> <td>     nan</td>\n",
       "</tr>\n",
       "<tr>\n",
       "  <th>Date:</th>            <td>Sun, 14 Mar 2021</td> <th>  Deviance:          </th> <td>     nan</td>\n",
       "</tr>\n",
       "<tr>\n",
       "  <th>Time:</th>                <td>13:52:32</td>     <th>  Pearson chi2:      </th> <td>4.95e+16</td>\n",
       "</tr>\n",
       "<tr>\n",
       "  <th>No. Iterations:</th>         <td>100</td>       <th>                     </th>     <td> </td>   \n",
       "</tr>\n",
       "<tr>\n",
       "  <th>Covariance Type:</th>     <td>nonrobust</td>    <th>                     </th>     <td> </td>   \n",
       "</tr>\n",
       "</table>\n",
       "<table class=\"simpletable\">\n",
       "<tr>\n",
       "              <td></td>                <th>coef</th>     <th>std err</th>      <th>z</th>      <th>P>|z|</th>  <th>[0.025</th>    <th>0.975]</th>  \n",
       "</tr>\n",
       "<tr>\n",
       "  <th>const</th>                    <td>-8.632e+14</td> <td> 5.13e+06</td> <td>-1.68e+08</td> <td> 0.000</td> <td>-8.63e+14</td> <td>-8.63e+14</td>\n",
       "</tr>\n",
       "<tr>\n",
       "  <th>Pclass_Middle</th>            <td>    1.3251</td> <td>    0.333</td> <td>    3.974</td> <td> 0.000</td> <td>    0.672</td> <td>    1.979</td>\n",
       "</tr>\n",
       "<tr>\n",
       "  <th>Pclass_Upper</th>             <td>    2.6021</td> <td>    0.486</td> <td>    5.354</td> <td> 0.000</td> <td>    1.650</td> <td>    3.555</td>\n",
       "</tr>\n",
       "<tr>\n",
       "  <th>Sex_male</th>                 <td>   -3.4333</td> <td>    0.276</td> <td>  -12.442</td> <td> 0.000</td> <td>   -3.974</td> <td>   -2.893</td>\n",
       "</tr>\n",
       "<tr>\n",
       "  <th>Embarked_Q</th>               <td>   -0.8377</td> <td>    0.508</td> <td>   -1.648</td> <td> 0.099</td> <td>   -1.834</td> <td>    0.159</td>\n",
       "</tr>\n",
       "<tr>\n",
       "  <th>Embarked_S</th>               <td>   -0.6199</td> <td>    0.315</td> <td>   -1.966</td> <td> 0.049</td> <td>   -1.238</td> <td>   -0.002</td>\n",
       "</tr>\n",
       "<tr>\n",
       "  <th>Age_bucket_Adolescence</th>   <td>    0.6391</td> <td>    0.729</td> <td>    0.877</td> <td> 0.381</td> <td>   -0.790</td> <td>    2.068</td>\n",
       "</tr>\n",
       "<tr>\n",
       "  <th>Age_bucket_Adult</th>         <td>   -0.4111</td> <td>    0.666</td> <td>   -0.618</td> <td> 0.537</td> <td>   -1.716</td> <td>    0.893</td>\n",
       "</tr>\n",
       "<tr>\n",
       "  <th>Age_bucket_SeniorCitizen</th> <td>   -0.3345</td> <td>    0.905</td> <td>   -0.370</td> <td> 0.712</td> <td>   -2.109</td> <td>    1.440</td>\n",
       "</tr>\n",
       "<tr>\n",
       "  <th>Master_Yes</th>               <td>    3.9027</td> <td>    0.849</td> <td>    4.597</td> <td> 0.000</td> <td>    2.239</td> <td>    5.567</td>\n",
       "</tr>\n",
       "<tr>\n",
       "  <th>Family_1</th>                 <td> 8.632e+14</td> <td> 5.13e+06</td> <td> 1.68e+08</td> <td> 0.000</td> <td> 8.63e+14</td> <td> 8.63e+14</td>\n",
       "</tr>\n",
       "<tr>\n",
       "  <th>Family_2</th>                 <td> 8.632e+14</td> <td> 5.13e+06</td> <td> 1.68e+08</td> <td> 0.000</td> <td> 8.63e+14</td> <td> 8.63e+14</td>\n",
       "</tr>\n",
       "<tr>\n",
       "  <th>Family_3</th>                 <td> 8.632e+14</td> <td> 5.13e+06</td> <td> 1.68e+08</td> <td> 0.000</td> <td> 8.63e+14</td> <td> 8.63e+14</td>\n",
       "</tr>\n",
       "<tr>\n",
       "  <th>Family_4</th>                 <td> 1.238e+15</td> <td> 1.81e+07</td> <td> 6.85e+07</td> <td> 0.000</td> <td> 1.24e+15</td> <td> 1.24e+15</td>\n",
       "</tr>\n",
       "<tr>\n",
       "  <th>Family_5</th>                 <td> 8.632e+14</td> <td> 5.13e+06</td> <td> 1.68e+08</td> <td> 0.000</td> <td> 8.63e+14</td> <td> 8.63e+14</td>\n",
       "</tr>\n",
       "<tr>\n",
       "  <th>Family_6</th>                 <td> 8.632e+14</td> <td> 5.13e+06</td> <td> 1.68e+08</td> <td> 0.000</td> <td> 8.63e+14</td> <td> 8.63e+14</td>\n",
       "</tr>\n",
       "<tr>\n",
       "  <th>Family_7</th>                 <td> -3.64e+15</td> <td> 3.04e+07</td> <td> -1.2e+08</td> <td> 0.000</td> <td>-3.64e+15</td> <td>-3.64e+15</td>\n",
       "</tr>\n",
       "<tr>\n",
       "  <th>Family_10</th>                <td> -3.64e+15</td> <td> 3.04e+07</td> <td> -1.2e+08</td> <td> 0.000</td> <td>-3.64e+15</td> <td>-3.64e+15</td>\n",
       "</tr>\n",
       "<tr>\n",
       "  <th>Alone_Yes</th>                <td> 8.632e+14</td> <td> 5.13e+06</td> <td> 1.68e+08</td> <td> 0.000</td> <td> 8.63e+14</td> <td> 8.63e+14</td>\n",
       "</tr>\n",
       "<tr>\n",
       "  <th>Fare_bucket_Medium</th>       <td>    0.7180</td> <td>    0.397</td> <td>    1.807</td> <td> 0.071</td> <td>   -0.061</td> <td>    1.497</td>\n",
       "</tr>\n",
       "<tr>\n",
       "  <th>Fare_bucket_High</th>         <td>    0.4548</td> <td>    0.462</td> <td>    0.985</td> <td> 0.324</td> <td>   -0.450</td> <td>    1.359</td>\n",
       "</tr>\n",
       "<tr>\n",
       "  <th>Fare_bucket_Very High</th>    <td>    0.3329</td> <td>    0.613</td> <td>    0.543</td> <td> 0.587</td> <td>   -0.869</td> <td>    1.535</td>\n",
       "</tr>\n",
       "</table>"
      ],
      "text/plain": [
       "<class 'statsmodels.iolib.summary.Summary'>\n",
       "\"\"\"\n",
       "                 Generalized Linear Model Regression Results                  \n",
       "==============================================================================\n",
       "Dep. Variable:               Survived   No. Observations:                  623\n",
       "Model:                            GLM   Df Residuals:                      602\n",
       "Model Family:                Binomial   Df Model:                           20\n",
       "Link Function:                  logit   Scale:                          1.0000\n",
       "Method:                          IRLS   Log-Likelihood:                    nan\n",
       "Date:                Sun, 14 Mar 2021   Deviance:                          nan\n",
       "Time:                        13:52:32   Pearson chi2:                 4.95e+16\n",
       "No. Iterations:                   100                                         \n",
       "Covariance Type:            nonrobust                                         \n",
       "============================================================================================\n",
       "                               coef    std err          z      P>|z|      [0.025      0.975]\n",
       "--------------------------------------------------------------------------------------------\n",
       "const                    -8.632e+14   5.13e+06  -1.68e+08      0.000   -8.63e+14   -8.63e+14\n",
       "Pclass_Middle                1.3251      0.333      3.974      0.000       0.672       1.979\n",
       "Pclass_Upper                 2.6021      0.486      5.354      0.000       1.650       3.555\n",
       "Sex_male                    -3.4333      0.276    -12.442      0.000      -3.974      -2.893\n",
       "Embarked_Q                  -0.8377      0.508     -1.648      0.099      -1.834       0.159\n",
       "Embarked_S                  -0.6199      0.315     -1.966      0.049      -1.238      -0.002\n",
       "Age_bucket_Adolescence       0.6391      0.729      0.877      0.381      -0.790       2.068\n",
       "Age_bucket_Adult            -0.4111      0.666     -0.618      0.537      -1.716       0.893\n",
       "Age_bucket_SeniorCitizen    -0.3345      0.905     -0.370      0.712      -2.109       1.440\n",
       "Master_Yes                   3.9027      0.849      4.597      0.000       2.239       5.567\n",
       "Family_1                  8.632e+14   5.13e+06   1.68e+08      0.000    8.63e+14    8.63e+14\n",
       "Family_2                  8.632e+14   5.13e+06   1.68e+08      0.000    8.63e+14    8.63e+14\n",
       "Family_3                  8.632e+14   5.13e+06   1.68e+08      0.000    8.63e+14    8.63e+14\n",
       "Family_4                  1.238e+15   1.81e+07   6.85e+07      0.000    1.24e+15    1.24e+15\n",
       "Family_5                  8.632e+14   5.13e+06   1.68e+08      0.000    8.63e+14    8.63e+14\n",
       "Family_6                  8.632e+14   5.13e+06   1.68e+08      0.000    8.63e+14    8.63e+14\n",
       "Family_7                  -3.64e+15   3.04e+07   -1.2e+08      0.000   -3.64e+15   -3.64e+15\n",
       "Family_10                 -3.64e+15   3.04e+07   -1.2e+08      0.000   -3.64e+15   -3.64e+15\n",
       "Alone_Yes                 8.632e+14   5.13e+06   1.68e+08      0.000    8.63e+14    8.63e+14\n",
       "Fare_bucket_Medium           0.7180      0.397      1.807      0.071      -0.061       1.497\n",
       "Fare_bucket_High             0.4548      0.462      0.985      0.324      -0.450       1.359\n",
       "Fare_bucket_Very High        0.3329      0.613      0.543      0.587      -0.869       1.535\n",
       "============================================================================================\n",
       "\"\"\""
      ]
     },
     "execution_count": 69,
     "metadata": {},
     "output_type": "execute_result"
    }
   ],
   "source": [
    "# Logistic regression model\n",
    "log_model = sm.GLM(y_train,(sm.add_constant(X_train)), family = sm.families.Binomial())\n",
    "log_model.fit().summary()"
   ]
  },
  {
   "cell_type": "code",
   "execution_count": 70,
   "metadata": {},
   "outputs": [],
   "source": [
    "# Selecting the top 14 significant features using RFE\n",
    "rfe=RFE(estimator=LogisticRegression(),n_features_to_select=14)  \n",
    "rfe=rfe.fit(X_train,y_train)"
   ]
  },
  {
   "cell_type": "code",
   "execution_count": 71,
   "metadata": {},
   "outputs": [
    {
     "data": {
      "text/plain": [
       "[('Pclass_Middle', True, 1),\n",
       " ('Pclass_Upper', True, 1),\n",
       " ('Sex_male', True, 1),\n",
       " ('Embarked_Q', False, 6),\n",
       " ('Embarked_S', True, 1),\n",
       " ('Age_bucket_Adolescence', False, 3),\n",
       " ('Age_bucket_Adult', False, 2),\n",
       " ('Age_bucket_SeniorCitizen', True, 1),\n",
       " ('Master_Yes', True, 1),\n",
       " ('Family_1', True, 1),\n",
       " ('Family_2', True, 1),\n",
       " ('Family_3', True, 1),\n",
       " ('Family_4', True, 1),\n",
       " ('Family_5', True, 1),\n",
       " ('Family_6', False, 5),\n",
       " ('Family_7', True, 1),\n",
       " ('Family_10', True, 1),\n",
       " ('Alone_Yes', True, 1),\n",
       " ('Fare_bucket_Medium', False, 4),\n",
       " ('Fare_bucket_High', False, 8),\n",
       " ('Fare_bucket_Very High', False, 7)]"
      ]
     },
     "execution_count": 71,
     "metadata": {},
     "output_type": "execute_result"
    }
   ],
   "source": [
    "# Print Features and & RFE Ranking\n",
    "list(zip(X_train.columns,rfe.support_,rfe.ranking_))"
   ]
  },
  {
   "cell_type": "code",
   "execution_count": 72,
   "metadata": {},
   "outputs": [
    {
     "data": {
      "text/plain": [
       "Index(['Pclass_Middle', 'Pclass_Upper', 'Sex_male', 'Embarked_S',\n",
       "       'Age_bucket_SeniorCitizen', 'Master_Yes', 'Family_1', 'Family_2',\n",
       "       'Family_3', 'Family_4', 'Family_5', 'Family_7', 'Family_10',\n",
       "       'Alone_Yes'],\n",
       "      dtype='object')"
      ]
     },
     "execution_count": 72,
     "metadata": {},
     "output_type": "execute_result"
    }
   ],
   "source": [
    "# Selecting the top 14 features into a list\n",
    "select_col = X_train.columns[rfe.support_]\n",
    "select_col"
   ]
  },
  {
   "cell_type": "code",
   "execution_count": 73,
   "metadata": {},
   "outputs": [
    {
     "name": "stdout",
     "output_type": "stream",
     "text": [
      "                 Generalized Linear Model Regression Results                  \n",
      "==============================================================================\n",
      "Dep. Variable:               Survived   No. Observations:                  623\n",
      "Model:                            GLM   Df Residuals:                      608\n",
      "Model Family:                Binomial   Df Model:                           14\n",
      "Link Function:                  logit   Scale:                          1.0000\n",
      "Method:                          IRLS   Log-Likelihood:                -229.84\n",
      "Date:                Sun, 14 Mar 2021   Deviance:                       459.68\n",
      "Time:                        13:52:32   Pearson chi2:                     663.\n",
      "No. Iterations:                    21                                         \n",
      "Covariance Type:            nonrobust                                         \n",
      "============================================================================================\n",
      "                               coef    std err          z      P>|z|      [0.025      0.975]\n",
      "--------------------------------------------------------------------------------------------\n",
      "const                        0.0805      0.905      0.089      0.929      -1.694       1.855\n",
      "Pclass_Middle                1.1237      0.321      3.505      0.000       0.495       1.752\n",
      "Pclass_Upper                 2.2129      0.318      6.964      0.000       1.590       2.836\n",
      "Sex_male                    -3.4237      0.286    -11.966      0.000      -3.984      -2.863\n",
      "Embarked_S                  -0.3999      0.270     -1.483      0.138      -0.929       0.129\n",
      "Age_bucket_SeniorCitizen    -0.6503      0.633     -1.027      0.305      -1.892       0.591\n",
      "Master_Yes                   4.3991      0.733      6.001      0.000       2.962       5.836\n",
      "Family_1                     0.7531      0.921      0.818      0.413      -1.051       2.557\n",
      "Family_2                     0.8235      0.919      0.896      0.370      -0.978       2.624\n",
      "Family_3                     1.4357      1.146      1.253      0.210      -0.810       3.682\n",
      "Family_4                    -2.3577      1.353     -1.743      0.081      -5.009       0.294\n",
      "Family_5                    -2.4248      1.185     -2.046      0.041      -4.748      -0.102\n",
      "Family_7                   -22.0233   1.99e+04     -0.001      0.999   -3.91e+04     3.9e+04\n",
      "Family_10                  -21.1164   1.91e+04     -0.001      0.999   -3.74e+04    3.73e+04\n",
      "Alone_Yes                    0.8692      0.903      0.963      0.335      -0.900       2.638\n",
      "============================================================================================\n",
      "                    Features   VIF\n",
      "6                   Family_1  1.95\n",
      "3                 Embarked_S  1.77\n",
      "1               Pclass_Upper  1.64\n",
      "13                 Alone_Yes  1.59\n",
      "7                   Family_2  1.58\n",
      "0              Pclass_Middle  1.49\n",
      "2                   Sex_male  1.38\n",
      "5                 Master_Yes  1.38\n",
      "10                  Family_5  1.22\n",
      "8                   Family_3  1.19\n",
      "9                   Family_4  1.11\n",
      "4   Age_bucket_SeniorCitizen  1.10\n",
      "11                  Family_7  1.04\n",
      "12                 Family_10  1.04\n"
     ]
    }
   ],
   "source": [
    "# Build the first model with all the columns selected in RFE\n",
    "X_rfe = X_train[select_col]\n",
    "X_train_rfe = sm.add_constant(X_rfe)\n",
    "log_model_rfe = sm.GLM(y_train,X_train_rfe, family = sm.families.Binomial()).fit()\n",
    "print(log_model_rfe.summary())\n",
    "\n",
    "#Calculate VIF\n",
    "calc_vif(X_rfe)"
   ]
  },
  {
   "cell_type": "code",
   "execution_count": 74,
   "metadata": {},
   "outputs": [
    {
     "name": "stdout",
     "output_type": "stream",
     "text": [
      "                 Generalized Linear Model Regression Results                  \n",
      "==============================================================================\n",
      "Dep. Variable:               Survived   No. Observations:                  623\n",
      "Model:                            GLM   Df Residuals:                      609\n",
      "Model Family:                Binomial   Df Model:                           13\n",
      "Link Function:                  logit   Scale:                          1.0000\n",
      "Method:                          IRLS   Log-Likelihood:                -230.76\n",
      "Date:                Sun, 14 Mar 2021   Deviance:                       461.53\n",
      "Time:                        13:52:32   Pearson chi2:                     666.\n",
      "No. Iterations:                    20                                         \n",
      "Covariance Type:            nonrobust                                         \n",
      "============================================================================================\n",
      "                               coef    std err          z      P>|z|      [0.025      0.975]\n",
      "--------------------------------------------------------------------------------------------\n",
      "const                       -0.4151      0.815     -0.509      0.611      -2.012       1.182\n",
      "Pclass_Middle                1.1257      0.321      3.507      0.000       0.497       1.755\n",
      "Pclass_Upper                 2.2176      0.318      6.974      0.000       1.594       2.841\n",
      "Sex_male                    -3.4245      0.286    -11.972      0.000      -3.985      -2.864\n",
      "Embarked_S                  -0.4004      0.270     -1.484      0.138      -0.929       0.128\n",
      "Age_bucket_SeniorCitizen    -0.6502      0.634     -1.026      0.305      -1.892       0.592\n",
      "Master_Yes                   4.5037      0.737      6.110      0.000       3.059       5.948\n",
      "Family_1                     1.2458      0.832      1.497      0.134      -0.385       2.877\n",
      "Family_2                     1.3060      0.834      1.567      0.117      -0.328       2.940\n",
      "Family_3                     1.9221      1.079      1.781      0.075      -0.193       4.037\n",
      "Family_4                    -1.8933      1.300     -1.457      0.145      -4.441       0.654\n",
      "Family_5                    -1.9895      1.128     -1.764      0.078      -4.201       0.222\n",
      "Family_7                   -20.5771    1.2e+04     -0.002      0.999   -2.36e+04    2.35e+04\n",
      "Alone_Yes                    1.3638      0.811      1.681      0.093      -0.227       2.954\n",
      "============================================================================================\n",
      "                    Features   VIF\n",
      "6                   Family_1  1.93\n",
      "3                 Embarked_S  1.72\n",
      "1               Pclass_Upper  1.64\n",
      "7                   Family_2  1.57\n",
      "12                 Alone_Yes  1.55\n",
      "0              Pclass_Middle  1.49\n",
      "2                   Sex_male  1.37\n",
      "5                 Master_Yes  1.37\n",
      "10                  Family_5  1.22\n",
      "8                   Family_3  1.19\n",
      "9                   Family_4  1.11\n",
      "4   Age_bucket_SeniorCitizen  1.10\n",
      "11                  Family_7  1.04\n"
     ]
    }
   ],
   "source": [
    "# Re-Build the model after removing the least significant/high correlated variable\n",
    "X_rfe = X_rfe.drop('Family_10',axis=1)\n",
    "X_train_rfe = sm.add_constant(X_rfe)\n",
    "log_model_rfe = sm.GLM(y_train,X_train_rfe, family = sm.families.Binomial()).fit()\n",
    "print(log_model_rfe.summary())\n",
    "\n",
    "#Calculate VIF\n",
    "calc_vif(X_rfe)"
   ]
  },
  {
   "cell_type": "code",
   "execution_count": 75,
   "metadata": {},
   "outputs": [
    {
     "name": "stdout",
     "output_type": "stream",
     "text": [
      "                 Generalized Linear Model Regression Results                  \n",
      "==============================================================================\n",
      "Dep. Variable:               Survived   No. Observations:                  623\n",
      "Model:                            GLM   Df Residuals:                      610\n",
      "Model Family:                Binomial   Df Model:                           12\n",
      "Link Function:                  logit   Scale:                          1.0000\n",
      "Method:                          IRLS   Log-Likelihood:                -232.04\n",
      "Date:                Sun, 14 Mar 2021   Deviance:                       464.07\n",
      "Time:                        13:52:32   Pearson chi2:                     669.\n",
      "No. Iterations:                     6                                         \n",
      "Covariance Type:            nonrobust                                         \n",
      "============================================================================================\n",
      "                               coef    std err          z      P>|z|      [0.025      0.975]\n",
      "--------------------------------------------------------------------------------------------\n",
      "const                       -0.9079      0.775     -1.171      0.242      -2.428       0.612\n",
      "Pclass_Middle                1.1244      0.321      3.506      0.000       0.496       1.753\n",
      "Pclass_Upper                 2.2147      0.318      6.969      0.000       1.592       2.838\n",
      "Sex_male                    -3.4254      0.286    -11.979      0.000      -3.986      -2.865\n",
      "Embarked_S                  -0.4000      0.270     -1.483      0.138      -0.929       0.129\n",
      "Age_bucket_SeniorCitizen    -0.6503      0.634     -1.026      0.305      -1.892       0.591\n",
      "Master_Yes                   4.4258      0.712      6.217      0.000       3.031       5.821\n",
      "Family_1                     1.7412      0.792      2.197      0.028       0.188       3.294\n",
      "Family_2                     1.8089      0.790      2.290      0.022       0.261       3.357\n",
      "Family_3                     2.4223      1.046      2.316      0.021       0.372       4.472\n",
      "Family_4                    -1.3767      1.267     -1.086      0.277      -3.861       1.107\n",
      "Family_5                    -1.4509      1.082     -1.341      0.180      -3.571       0.669\n",
      "Alone_Yes                    1.8582      0.771      2.410      0.016       0.347       3.369\n",
      "============================================================================================\n",
      "                    Features   VIF\n",
      "6                   Family_1  1.92\n",
      "3                 Embarked_S  1.67\n",
      "1               Pclass_Upper  1.64\n",
      "7                   Family_2  1.55\n",
      "11                 Alone_Yes  1.53\n",
      "0              Pclass_Middle  1.49\n",
      "2                   Sex_male  1.37\n",
      "5                 Master_Yes  1.36\n",
      "10                  Family_5  1.21\n",
      "8                   Family_3  1.18\n",
      "4   Age_bucket_SeniorCitizen  1.10\n",
      "9                   Family_4  1.10\n"
     ]
    }
   ],
   "source": [
    "# Re-Build the model after removing the least significant/high correlated variable\n",
    "X_rfe = X_rfe.drop('Family_7',axis=1)\n",
    "X_train_rfe = sm.add_constant(X_rfe)\n",
    "log_model_rfe = sm.GLM(y_train,X_train_rfe, family = sm.families.Binomial()).fit()\n",
    "print(log_model_rfe.summary())\n",
    "\n",
    "#Calculate VIF\n",
    "calc_vif(X_rfe)"
   ]
  },
  {
   "cell_type": "code",
   "execution_count": 76,
   "metadata": {},
   "outputs": [
    {
     "name": "stdout",
     "output_type": "stream",
     "text": [
      "                 Generalized Linear Model Regression Results                  \n",
      "==============================================================================\n",
      "Dep. Variable:               Survived   No. Observations:                  623\n",
      "Model:                            GLM   Df Residuals:                      611\n",
      "Model Family:                Binomial   Df Model:                           11\n",
      "Link Function:                  logit   Scale:                          1.0000\n",
      "Method:                          IRLS   Log-Likelihood:                -232.60\n",
      "Date:                Sun, 14 Mar 2021   Deviance:                       465.20\n",
      "Time:                        13:52:32   Pearson chi2:                     673.\n",
      "No. Iterations:                     6                                         \n",
      "Covariance Type:            nonrobust                                         \n",
      "=================================================================================\n",
      "                    coef    std err          z      P>|z|      [0.025      0.975]\n",
      "---------------------------------------------------------------------------------\n",
      "const            -0.8962      0.775     -1.156      0.247      -2.415       0.623\n",
      "Pclass_Middle     1.1274      0.321      3.515      0.000       0.499       1.756\n",
      "Pclass_Upper      2.1474      0.310      6.917      0.000       1.539       2.756\n",
      "Sex_male         -3.4347      0.286    -12.026      0.000      -3.994      -2.875\n",
      "Embarked_S       -0.4118      0.269     -1.531      0.126      -0.939       0.115\n",
      "Master_Yes        4.4355      0.710      6.249      0.000       3.044       5.827\n",
      "Family_1          1.7518      0.792      2.211      0.027       0.199       3.305\n",
      "Family_2          1.7901      0.789      2.269      0.023       0.244       3.336\n",
      "Family_3          2.4326      1.047      2.324      0.020       0.381       4.484\n",
      "Family_4         -1.3772      1.267     -1.087      0.277      -3.861       1.107\n",
      "Family_5         -1.4387      1.080     -1.333      0.183      -3.555       0.677\n",
      "Alone_Yes         1.8446      0.771      2.394      0.017       0.334       3.355\n",
      "=================================================================================\n",
      "         Features   VIF\n",
      "5        Family_1  1.91\n",
      "3      Embarked_S  1.67\n",
      "1    Pclass_Upper  1.57\n",
      "6        Family_2  1.55\n",
      "10      Alone_Yes  1.53\n",
      "0   Pclass_Middle  1.49\n",
      "2        Sex_male  1.36\n",
      "4      Master_Yes  1.36\n",
      "9        Family_5  1.21\n",
      "7        Family_3  1.18\n",
      "8        Family_4  1.10\n"
     ]
    }
   ],
   "source": [
    "# Re-Build the model after removing the least significant/high correlated variable\n",
    "X_rfe = X_rfe.drop('Age_bucket_SeniorCitizen',axis=1)\n",
    "X_train_rfe = sm.add_constant(X_rfe)\n",
    "log_model_rfe = sm.GLM(y_train,X_train_rfe, family = sm.families.Binomial()).fit()\n",
    "print(log_model_rfe.summary())\n",
    "\n",
    "#Calculate VIF\n",
    "calc_vif(X_rfe)"
   ]
  },
  {
   "cell_type": "code",
   "execution_count": 77,
   "metadata": {
    "scrolled": true
   },
   "outputs": [
    {
     "name": "stdout",
     "output_type": "stream",
     "text": [
      "                 Generalized Linear Model Regression Results                  \n",
      "==============================================================================\n",
      "Dep. Variable:               Survived   No. Observations:                  623\n",
      "Model:                            GLM   Df Residuals:                      612\n",
      "Model Family:                Binomial   Df Model:                           10\n",
      "Link Function:                  logit   Scale:                          1.0000\n",
      "Method:                          IRLS   Log-Likelihood:                -233.26\n",
      "Date:                Sun, 14 Mar 2021   Deviance:                       466.53\n",
      "Time:                        13:52:32   Pearson chi2:                     675.\n",
      "No. Iterations:                     6                                         \n",
      "Covariance Type:            nonrobust                                         \n",
      "=================================================================================\n",
      "                    coef    std err          z      P>|z|      [0.025      0.975]\n",
      "---------------------------------------------------------------------------------\n",
      "const            -1.4585      0.660     -2.209      0.027      -2.752      -0.165\n",
      "Pclass_Middle     1.1126      0.319      3.484      0.000       0.487       1.738\n",
      "Pclass_Upper      2.1431      0.310      6.911      0.000       1.535       2.751\n",
      "Sex_male         -3.4316      0.285    -12.023      0.000      -3.991      -2.872\n",
      "Embarked_S       -0.4095      0.269     -1.523      0.128      -0.936       0.117\n",
      "Master_Yes        4.4713      0.709      6.306      0.000       3.082       5.861\n",
      "Family_1          2.3160      0.679      3.412      0.001       0.986       3.646\n",
      "Family_2          2.3498      0.676      3.474      0.001       1.024       3.676\n",
      "Family_3          2.9977      0.963      3.113      0.002       1.111       4.885\n",
      "Family_5         -0.8988      1.003     -0.896      0.370      -2.865       1.068\n",
      "Alone_Yes         2.4077      0.654      3.680      0.000       1.125       3.690\n",
      "=================================================================================\n",
      "        Features   VIF\n",
      "5       Family_1  1.87\n",
      "1   Pclass_Upper  1.56\n",
      "3     Embarked_S  1.54\n",
      "6       Family_2  1.51\n",
      "0  Pclass_Middle  1.49\n",
      "9      Alone_Yes  1.49\n",
      "2       Sex_male  1.36\n",
      "4     Master_Yes  1.35\n",
      "8       Family_5  1.19\n",
      "7       Family_3  1.17\n"
     ]
    }
   ],
   "source": [
    "# Re-Build the model after removing the least significant/high correlated variable\n",
    "X_rfe = X_rfe.drop('Family_4',axis=1)\n",
    "X_train_rfe = sm.add_constant(X_rfe)\n",
    "log_model_rfe = sm.GLM(y_train,X_train_rfe, family = sm.families.Binomial()).fit()\n",
    "print(log_model_rfe.summary())\n",
    "\n",
    "#Calculate VIF\n",
    "calc_vif(X_rfe)"
   ]
  },
  {
   "cell_type": "code",
   "execution_count": 78,
   "metadata": {},
   "outputs": [
    {
     "name": "stdout",
     "output_type": "stream",
     "text": [
      "                 Generalized Linear Model Regression Results                  \n",
      "==============================================================================\n",
      "Dep. Variable:               Survived   No. Observations:                  623\n",
      "Model:                            GLM   Df Residuals:                      613\n",
      "Model Family:                Binomial   Df Model:                            9\n",
      "Link Function:                  logit   Scale:                          1.0000\n",
      "Method:                          IRLS   Log-Likelihood:                -233.68\n",
      "Date:                Sun, 14 Mar 2021   Deviance:                       467.36\n",
      "Time:                        13:52:32   Pearson chi2:                     674.\n",
      "No. Iterations:                     5                                         \n",
      "Covariance Type:            nonrobust                                         \n",
      "=================================================================================\n",
      "                    coef    std err          z      P>|z|      [0.025      0.975]\n",
      "---------------------------------------------------------------------------------\n",
      "const            -1.7741      0.599     -2.963      0.003      -2.948      -0.601\n",
      "Pclass_Middle     1.1028      0.319      3.460      0.001       0.478       1.727\n",
      "Pclass_Upper      2.1168      0.307      6.886      0.000       1.514       2.719\n",
      "Sex_male         -3.4270      0.284    -12.054      0.000      -3.984      -2.870\n",
      "Embarked_S       -0.3895      0.267     -1.460      0.144      -0.912       0.134\n",
      "Master_Yes        4.3663      0.692      6.308      0.000       3.010       5.723\n",
      "Family_1          2.6307      0.619      4.249      0.000       1.417       3.844\n",
      "Family_2          2.6687      0.612      4.359      0.000       1.469       3.869\n",
      "Family_3          3.3156      0.918      3.613      0.000       1.517       5.114\n",
      "Alone_Yes         2.7162      0.596      4.554      0.000       1.547       3.885\n",
      "=================================================================================\n",
      "        Features   VIF\n",
      "5       Family_1  1.82\n",
      "1   Pclass_Upper  1.53\n",
      "0  Pclass_Middle  1.49\n",
      "3     Embarked_S  1.48\n",
      "6       Family_2  1.45\n",
      "8      Alone_Yes  1.42\n",
      "2       Sex_male  1.35\n",
      "4     Master_Yes  1.27\n",
      "7       Family_3  1.16\n"
     ]
    }
   ],
   "source": [
    "# Re-Build the model after removing the least significant/high correlated variable\n",
    "X_rfe = X_rfe.drop('Family_5',axis=1)\n",
    "X_train_rfe = sm.add_constant(X_rfe)\n",
    "log_model_rfe = sm.GLM(y_train,X_train_rfe, family = sm.families.Binomial()).fit()\n",
    "print(log_model_rfe.summary())\n",
    "\n",
    "#Calculate VIF\n",
    "calc_vif(X_rfe)"
   ]
  },
  {
   "cell_type": "code",
   "execution_count": 79,
   "metadata": {},
   "outputs": [
    {
     "name": "stdout",
     "output_type": "stream",
     "text": [
      "                 Generalized Linear Model Regression Results                  \n",
      "==============================================================================\n",
      "Dep. Variable:               Survived   No. Observations:                  623\n",
      "Model:                            GLM   Df Residuals:                      614\n",
      "Model Family:                Binomial   Df Model:                            8\n",
      "Link Function:                  logit   Scale:                          1.0000\n",
      "Method:                          IRLS   Log-Likelihood:                -234.74\n",
      "Date:                Sun, 14 Mar 2021   Deviance:                       469.48\n",
      "Time:                        13:52:33   Pearson chi2:                     664.\n",
      "No. Iterations:                     5                                         \n",
      "Covariance Type:            nonrobust                                         \n",
      "=================================================================================\n",
      "                    coef    std err          z      P>|z|      [0.025      0.975]\n",
      "---------------------------------------------------------------------------------\n",
      "const            -2.1153      0.549     -3.850      0.000      -3.192      -1.038\n",
      "Pclass_Middle     1.0154      0.313      3.244      0.001       0.402       1.629\n",
      "Pclass_Upper      2.1471      0.306      7.024      0.000       1.548       2.746\n",
      "Sex_male         -3.4654      0.283    -12.238      0.000      -4.020      -2.910\n",
      "Master_Yes        4.4102      0.701      6.288      0.000       3.036       5.785\n",
      "Family_1          2.7469      0.613      4.479      0.000       1.545       3.949\n",
      "Family_2          2.7507      0.610      4.511      0.000       1.555       3.946\n",
      "Family_3          3.4585      0.913      3.790      0.000       1.670       5.247\n",
      "Alone_Yes         2.8190      0.590      4.774      0.000       1.662       3.976\n",
      "=================================================================================\n",
      "        Features   VIF\n",
      "4       Family_1  1.59\n",
      "1   Pclass_Upper  1.53\n",
      "0  Pclass_Middle  1.45\n",
      "2       Sex_male  1.29\n",
      "5       Family_2  1.29\n",
      "3     Master_Yes  1.26\n",
      "7      Alone_Yes  1.16\n",
      "6       Family_3  1.12\n"
     ]
    }
   ],
   "source": [
    "# Re-Build the model after removing the least significant/high correlated variable\n",
    "X_rfe = X_rfe.drop('Embarked_S',axis=1)\n",
    "X_train_rfe = sm.add_constant(X_rfe)\n",
    "log_model_rfe = sm.GLM(y_train,X_train_rfe, family = sm.families.Binomial()).fit()\n",
    "print(log_model_rfe.summary())\n",
    "\n",
    "#Calculate VIF\n",
    "calc_vif(X_rfe)"
   ]
  },
  {
   "cell_type": "markdown",
   "metadata": {},
   "source": [
    "## Prediction and Model evaluation"
   ]
  },
  {
   "cell_type": "code",
   "execution_count": 80,
   "metadata": {},
   "outputs": [],
   "source": [
    "# Initialise Logistic Regression model & fit the model with the final set of variables\n",
    "logreg = LogisticRegression()\n",
    "logreg.fit(X_train[X_rfe.columns], y_train)\n",
    "y_test_pred=logreg.predict(X_test[X_rfe.columns])"
   ]
  },
  {
   "cell_type": "code",
   "execution_count": 81,
   "metadata": {},
   "outputs": [
    {
     "data": {
      "text/plain": [
       "array([[ 0.95044008,  1.83757448, -2.93866144,  2.66345533,  1.24500855,\n",
       "         1.41028509,  1.50284339,  1.18573338]])"
      ]
     },
     "execution_count": 81,
     "metadata": {},
     "output_type": "execute_result"
    }
   ],
   "source": [
    "# Printing the coefficients of each feature\n",
    "logreg.coef_"
   ]
  },
  {
   "cell_type": "code",
   "execution_count": 82,
   "metadata": {
    "scrolled": true
   },
   "outputs": [
    {
     "data": {
      "text/html": [
       "<div>\n",
       "<style scoped>\n",
       "    .dataframe tbody tr th:only-of-type {\n",
       "        vertical-align: middle;\n",
       "    }\n",
       "\n",
       "    .dataframe tbody tr th {\n",
       "        vertical-align: top;\n",
       "    }\n",
       "\n",
       "    .dataframe thead th {\n",
       "        text-align: right;\n",
       "    }\n",
       "</style>\n",
       "<table border=\"1\" class=\"dataframe\">\n",
       "  <thead>\n",
       "    <tr style=\"text-align: right;\">\n",
       "      <th></th>\n",
       "      <th>Columns</th>\n",
       "      <th>Coefficients</th>\n",
       "    </tr>\n",
       "  </thead>\n",
       "  <tbody>\n",
       "    <tr>\n",
       "      <th>3</th>\n",
       "      <td>Master_Yes</td>\n",
       "      <td>2.663455</td>\n",
       "    </tr>\n",
       "    <tr>\n",
       "      <th>1</th>\n",
       "      <td>Pclass_Upper</td>\n",
       "      <td>1.837574</td>\n",
       "    </tr>\n",
       "    <tr>\n",
       "      <th>6</th>\n",
       "      <td>Family_3</td>\n",
       "      <td>1.502843</td>\n",
       "    </tr>\n",
       "    <tr>\n",
       "      <th>5</th>\n",
       "      <td>Family_2</td>\n",
       "      <td>1.410285</td>\n",
       "    </tr>\n",
       "    <tr>\n",
       "      <th>4</th>\n",
       "      <td>Family_1</td>\n",
       "      <td>1.245009</td>\n",
       "    </tr>\n",
       "    <tr>\n",
       "      <th>7</th>\n",
       "      <td>Alone_Yes</td>\n",
       "      <td>1.185733</td>\n",
       "    </tr>\n",
       "    <tr>\n",
       "      <th>0</th>\n",
       "      <td>Pclass_Middle</td>\n",
       "      <td>0.950440</td>\n",
       "    </tr>\n",
       "    <tr>\n",
       "      <th>2</th>\n",
       "      <td>Sex_male</td>\n",
       "      <td>-2.938661</td>\n",
       "    </tr>\n",
       "  </tbody>\n",
       "</table>\n",
       "</div>"
      ],
      "text/plain": [
       "         Columns  Coefficients\n",
       "3     Master_Yes      2.663455\n",
       "1   Pclass_Upper      1.837574\n",
       "6       Family_3      1.502843\n",
       "5       Family_2      1.410285\n",
       "4       Family_1      1.245009\n",
       "7      Alone_Yes      1.185733\n",
       "0  Pclass_Middle      0.950440\n",
       "2       Sex_male     -2.938661"
      ]
     },
     "execution_count": 82,
     "metadata": {},
     "output_type": "execute_result"
    }
   ],
   "source": [
    "# Putting the coefficients and its associated features in a dataframe\n",
    "model_df = pd.DataFrame({'Columns':X_rfe.columns, 'Coefficients':logreg.coef_[0]})\n",
    "model_df = model_df.sort_values(by='Coefficients',ascending=False)\n",
    "model_df"
   ]
  },
  {
   "cell_type": "code",
   "execution_count": 83,
   "metadata": {},
   "outputs": [
    {
     "name": "stdout",
     "output_type": "stream",
     "text": [
      "Accuracy for Test: 80.0\n"
     ]
    }
   ],
   "source": [
    "# Print Accurcy on the Test Set\n",
    "print('Accuracy for Test:',round(accuracy_score(y_test,y_test_pred),2)*100)"
   ]
  },
  {
   "cell_type": "code",
   "execution_count": 84,
   "metadata": {},
   "outputs": [],
   "source": [
    "# Getting the predicted values on the train set\n",
    "y_train_pred=logreg.predict(X_train[X_rfe.columns])"
   ]
  },
  {
   "cell_type": "code",
   "execution_count": 85,
   "metadata": {},
   "outputs": [
    {
     "name": "stdout",
     "output_type": "stream",
     "text": [
      "Accuracy for Train: 85.0\n"
     ]
    }
   ],
   "source": [
    "# Print Accurcy on the Train Set\n",
    "print('Accuracy for Train:',round(accuracy_score(y_train,y_train_pred),2)*100)"
   ]
  },
  {
   "cell_type": "markdown",
   "metadata": {},
   "source": [
    "## So we have a training accuracy of 85% and test accuracy of 80%"
   ]
  },
  {
   "cell_type": "markdown",
   "metadata": {},
   "source": [
    " "
   ]
  },
  {
   "cell_type": "markdown",
   "metadata": {},
   "source": [
    " "
   ]
  },
  {
   "cell_type": "markdown",
   "metadata": {},
   "source": [
    "## Now lets proceed with the preparation for the final submission. \n",
    "## First lets do the data preparation of the final Test Data provided for predictions.\n",
    "## [For final submission and evaluation]"
   ]
  },
  {
   "cell_type": "code",
   "execution_count": 86,
   "metadata": {},
   "outputs": [
    {
     "data": {
      "text/html": [
       "<div>\n",
       "<style scoped>\n",
       "    .dataframe tbody tr th:only-of-type {\n",
       "        vertical-align: middle;\n",
       "    }\n",
       "\n",
       "    .dataframe tbody tr th {\n",
       "        vertical-align: top;\n",
       "    }\n",
       "\n",
       "    .dataframe thead th {\n",
       "        text-align: right;\n",
       "    }\n",
       "</style>\n",
       "<table border=\"1\" class=\"dataframe\">\n",
       "  <thead>\n",
       "    <tr style=\"text-align: right;\">\n",
       "      <th></th>\n",
       "      <th>PassengerId</th>\n",
       "      <th>Pclass</th>\n",
       "      <th>Name</th>\n",
       "      <th>Sex</th>\n",
       "      <th>Age</th>\n",
       "      <th>SibSp</th>\n",
       "      <th>Parch</th>\n",
       "      <th>Ticket</th>\n",
       "      <th>Fare</th>\n",
       "      <th>Cabin</th>\n",
       "      <th>Embarked</th>\n",
       "    </tr>\n",
       "  </thead>\n",
       "  <tbody>\n",
       "    <tr>\n",
       "      <th>0</th>\n",
       "      <td>892</td>\n",
       "      <td>3</td>\n",
       "      <td>Kelly, Mr. James</td>\n",
       "      <td>male</td>\n",
       "      <td>34.5</td>\n",
       "      <td>0</td>\n",
       "      <td>0</td>\n",
       "      <td>330911</td>\n",
       "      <td>7.8292</td>\n",
       "      <td>NaN</td>\n",
       "      <td>Q</td>\n",
       "    </tr>\n",
       "    <tr>\n",
       "      <th>1</th>\n",
       "      <td>893</td>\n",
       "      <td>3</td>\n",
       "      <td>Wilkes, Mrs. James (Ellen Needs)</td>\n",
       "      <td>female</td>\n",
       "      <td>47.0</td>\n",
       "      <td>1</td>\n",
       "      <td>0</td>\n",
       "      <td>363272</td>\n",
       "      <td>7.0000</td>\n",
       "      <td>NaN</td>\n",
       "      <td>S</td>\n",
       "    </tr>\n",
       "    <tr>\n",
       "      <th>2</th>\n",
       "      <td>894</td>\n",
       "      <td>2</td>\n",
       "      <td>Myles, Mr. Thomas Francis</td>\n",
       "      <td>male</td>\n",
       "      <td>62.0</td>\n",
       "      <td>0</td>\n",
       "      <td>0</td>\n",
       "      <td>240276</td>\n",
       "      <td>9.6875</td>\n",
       "      <td>NaN</td>\n",
       "      <td>Q</td>\n",
       "    </tr>\n",
       "    <tr>\n",
       "      <th>3</th>\n",
       "      <td>895</td>\n",
       "      <td>3</td>\n",
       "      <td>Wirz, Mr. Albert</td>\n",
       "      <td>male</td>\n",
       "      <td>27.0</td>\n",
       "      <td>0</td>\n",
       "      <td>0</td>\n",
       "      <td>315154</td>\n",
       "      <td>8.6625</td>\n",
       "      <td>NaN</td>\n",
       "      <td>S</td>\n",
       "    </tr>\n",
       "    <tr>\n",
       "      <th>4</th>\n",
       "      <td>896</td>\n",
       "      <td>3</td>\n",
       "      <td>Hirvonen, Mrs. Alexander (Helga E Lindqvist)</td>\n",
       "      <td>female</td>\n",
       "      <td>22.0</td>\n",
       "      <td>1</td>\n",
       "      <td>1</td>\n",
       "      <td>3101298</td>\n",
       "      <td>12.2875</td>\n",
       "      <td>NaN</td>\n",
       "      <td>S</td>\n",
       "    </tr>\n",
       "  </tbody>\n",
       "</table>\n",
       "</div>"
      ],
      "text/plain": [
       "   PassengerId  Pclass                                          Name     Sex  \\\n",
       "0          892       3                              Kelly, Mr. James    male   \n",
       "1          893       3              Wilkes, Mrs. James (Ellen Needs)  female   \n",
       "2          894       2                     Myles, Mr. Thomas Francis    male   \n",
       "3          895       3                              Wirz, Mr. Albert    male   \n",
       "4          896       3  Hirvonen, Mrs. Alexander (Helga E Lindqvist)  female   \n",
       "\n",
       "    Age  SibSp  Parch   Ticket     Fare Cabin Embarked  \n",
       "0  34.5      0      0   330911   7.8292   NaN        Q  \n",
       "1  47.0      1      0   363272   7.0000   NaN        S  \n",
       "2  62.0      0      0   240276   9.6875   NaN        Q  \n",
       "3  27.0      0      0   315154   8.6625   NaN        S  \n",
       "4  22.0      1      1  3101298  12.2875   NaN        S  "
      ]
     },
     "execution_count": 86,
     "metadata": {},
     "output_type": "execute_result"
    }
   ],
   "source": [
    "# Importing dataset\n",
    "data_test = pd.read_csv(\"../data/test.csv\")\n",
    "data_test.head()"
   ]
  },
  {
   "cell_type": "code",
   "execution_count": 87,
   "metadata": {},
   "outputs": [
    {
     "data": {
      "text/plain": [
       "(418, 11)"
      ]
     },
     "execution_count": 87,
     "metadata": {},
     "output_type": "execute_result"
    }
   ],
   "source": [
    "# Checking the size of the test set\n",
    "data_test.shape"
   ]
  },
  {
   "cell_type": "code",
   "execution_count": 88,
   "metadata": {},
   "outputs": [
    {
     "name": "stdout",
     "output_type": "stream",
     "text": [
      "<class 'pandas.core.frame.DataFrame'>\n",
      "RangeIndex: 418 entries, 0 to 417\n",
      "Data columns (total 11 columns):\n",
      " #   Column       Non-Null Count  Dtype  \n",
      "---  ------       --------------  -----  \n",
      " 0   PassengerId  418 non-null    int64  \n",
      " 1   Pclass       418 non-null    int64  \n",
      " 2   Name         418 non-null    object \n",
      " 3   Sex          418 non-null    object \n",
      " 4   Age          332 non-null    float64\n",
      " 5   SibSp        418 non-null    int64  \n",
      " 6   Parch        418 non-null    int64  \n",
      " 7   Ticket       418 non-null    object \n",
      " 8   Fare         417 non-null    float64\n",
      " 9   Cabin        91 non-null     object \n",
      " 10  Embarked     418 non-null    object \n",
      "dtypes: float64(2), int64(4), object(5)\n",
      "memory usage: 36.0+ KB\n"
     ]
    }
   ],
   "source": [
    "# Checking for null values and dtypes\n",
    "data_test.info()"
   ]
  },
  {
   "cell_type": "code",
   "execution_count": 89,
   "metadata": {
    "scrolled": false
   },
   "outputs": [
    {
     "data": {
      "text/plain": [
       "PassengerId     0.00\n",
       "Pclass          0.00\n",
       "Name            0.00\n",
       "Sex             0.00\n",
       "Age            20.57\n",
       "SibSp           0.00\n",
       "Parch           0.00\n",
       "Ticket          0.00\n",
       "Fare            0.24\n",
       "Cabin          78.23\n",
       "Embarked        0.00\n",
       "dtype: float64"
      ]
     },
     "execution_count": 89,
     "metadata": {},
     "output_type": "execute_result"
    }
   ],
   "source": [
    "# Checking for percentage of missing values\n",
    "round(100*(data_test[data_test.columns].isnull().sum()/len(data_test.index)),2)"
   ]
  },
  {
   "cell_type": "markdown",
   "metadata": {},
   "source": [
    "#### Imputing Age"
   ]
  },
  {
   "cell_type": "code",
   "execution_count": 90,
   "metadata": {
    "scrolled": true
   },
   "outputs": [],
   "source": [
    "# Extracting the salutation from Name feature and creating a new feature named Salutation\n",
    "data_test['Salutation'] = data_test.Name.apply(lambda name: name.split(',')[1].split('.')[0].strip())"
   ]
  },
  {
   "cell_type": "code",
   "execution_count": 91,
   "metadata": {
    "scrolled": true
   },
   "outputs": [
    {
     "data": {
      "text/plain": [
       "Mr        240\n",
       "Miss       78\n",
       "Mrs        72\n",
       "Master     21\n",
       "Col         2\n",
       "Rev         2\n",
       "Ms          1\n",
       "Dr          1\n",
       "Dona        1\n",
       "Name: Salutation, dtype: int64"
      ]
     },
     "execution_count": 91,
     "metadata": {},
     "output_type": "execute_result"
    }
   ],
   "source": [
    "# Checking the distribution of data in Salutation\n",
    "data_test['Salutation'].value_counts()"
   ]
  },
  {
   "cell_type": "code",
   "execution_count": 92,
   "metadata": {
    "scrolled": true
   },
   "outputs": [
    {
     "name": "stdout",
     "output_type": "stream",
     "text": [
      "                   mean\n",
      "Salutation Pclass      \n",
      "Col        1       50.0\n",
      "Dona       1       39.0\n",
      "Dr         1       53.0\n",
      "Master     1        9.5\n",
      "           2        5.0\n",
      "           3        7.5\n",
      "Miss       1       31.4\n",
      "           2       17.4\n",
      "           3       19.9\n",
      "Mr         1       41.2\n",
      "           2       31.7\n",
      "           3       27.2\n",
      "Mrs        1       45.6\n",
      "           2       33.0\n",
      "           3       29.9\n",
      "Ms         3        NaN\n",
      "Rev        2       35.5\n"
     ]
    }
   ],
   "source": [
    "# Priting average age of passengers spread across salutation and pclass\n",
    "print(data_test.groupby(['Salutation', 'Pclass'])['Age'].agg(['mean']).round(1))"
   ]
  },
  {
   "cell_type": "code",
   "execution_count": 93,
   "metadata": {},
   "outputs": [],
   "source": [
    "# Imputing the missing values of Age with mean age of passengers falling under particular age bracket (filtered with the help \n",
    "# of salutation) and then further filtered against pclass, this is done to impute the age of missing passengers with as much\n",
    "# accuracy as possible\n",
    "data_test['Age'] = data_test.groupby(['Salutation', 'Pclass'])['Age'].transform(lambda x: round(x.fillna(x.mean()),1))"
   ]
  },
  {
   "cell_type": "code",
   "execution_count": 94,
   "metadata": {},
   "outputs": [],
   "source": [
    "# Creating age buckets to convert age feature from numeric to categorical\n",
    "data_test['Age_bucket'] = pd.cut(data_test['Age'],[0,12,18,59,100],labels=['Child','Adolescence','Adult','SeniorCitizen'])"
   ]
  },
  {
   "cell_type": "code",
   "execution_count": 95,
   "metadata": {
    "scrolled": true
   },
   "outputs": [
    {
     "data": {
      "text/plain": [
       "Adult            345\n",
       "Adolescence       29\n",
       "Child             29\n",
       "SeniorCitizen     14\n",
       "Name: Age_bucket, dtype: int64"
      ]
     },
     "execution_count": 95,
     "metadata": {},
     "output_type": "execute_result"
    }
   ],
   "source": [
    "# Checking the spread of data in age bucket feature\n",
    "data_test['Age_bucket'].value_counts()"
   ]
  },
  {
   "cell_type": "code",
   "execution_count": 96,
   "metadata": {},
   "outputs": [
    {
     "data": {
      "text/plain": [
       "False    397\n",
       "True      21\n",
       "Name: Salutation, dtype: int64"
      ]
     },
     "execution_count": 96,
     "metadata": {},
     "output_type": "execute_result"
    }
   ],
   "source": [
    "# Checking number of records with Salutation as Master\n",
    "(data_test['Salutation']=='Master').value_counts()"
   ]
  },
  {
   "cell_type": "code",
   "execution_count": 97,
   "metadata": {},
   "outputs": [],
   "source": [
    "# Creating a new derived feature as Master, having values as Yes if the salutation for that record is master or else No\n",
    "data_test['Master'] = np.where(data_test['Salutation']=='Master','Yes','No')"
   ]
  },
  {
   "cell_type": "code",
   "execution_count": 98,
   "metadata": {},
   "outputs": [],
   "source": [
    "# Mapping the Pclass feature with respective values as per data understanding\n",
    "pclassmap = {1:'Upper',2:'Middle',3:'Lower'}\n",
    "data_test['Pclass'] = data_test['Pclass'].map(pclassmap)"
   ]
  },
  {
   "cell_type": "code",
   "execution_count": 99,
   "metadata": {
    "scrolled": true
   },
   "outputs": [
    {
     "data": {
      "text/plain": [
       "0    324\n",
       "1     52\n",
       "2     33\n",
       "3      3\n",
       "9      2\n",
       "4      2\n",
       "6      1\n",
       "5      1\n",
       "Name: Parch, dtype: int64"
      ]
     },
     "execution_count": 99,
     "metadata": {},
     "output_type": "execute_result"
    }
   ],
   "source": [
    "# Checking for distribution of Parch values\n",
    "data_test['Parch'].value_counts()"
   ]
  },
  {
   "cell_type": "code",
   "execution_count": 100,
   "metadata": {
    "scrolled": true
   },
   "outputs": [
    {
     "data": {
      "text/plain": [
       "0    283\n",
       "1    110\n",
       "2     14\n",
       "4      4\n",
       "3      4\n",
       "8      2\n",
       "5      1\n",
       "Name: SibSp, dtype: int64"
      ]
     },
     "execution_count": 100,
     "metadata": {},
     "output_type": "execute_result"
    }
   ],
   "source": [
    "# Checking for distribution of SibSp values\n",
    "data_test['SibSp'].value_counts()"
   ]
  },
  {
   "cell_type": "code",
   "execution_count": 101,
   "metadata": {},
   "outputs": [],
   "source": [
    "# Creating a derived feature \"Family\" by adding the values of Parch and SibSp\n",
    "data_test['Family'] = data_test['Parch'] + data_test['SibSp']"
   ]
  },
  {
   "cell_type": "code",
   "execution_count": 102,
   "metadata": {},
   "outputs": [],
   "source": [
    "# Creating a derived feature \"Alone\" with value as Yes where the Passenger's Family feature value is 0 and No otherwise\n",
    "data_test['Alone'] = np.where(data_test['Family']==0,'Yes','No')"
   ]
  },
  {
   "cell_type": "code",
   "execution_count": 103,
   "metadata": {},
   "outputs": [],
   "source": [
    "# Filling the missing values of Fare with median of the same as per data understanding\n",
    "data_test['Fare'] = data_test['Fare'].fillna(data_test['Fare'].median())"
   ]
  },
  {
   "cell_type": "code",
   "execution_count": 104,
   "metadata": {},
   "outputs": [],
   "source": [
    "# Splitting the Fare across buckets\n",
    "data_test['Fare_bucket'] = pd.qcut(data_test['Fare'],4, labels=['Low','Medium','High','Very High'])"
   ]
  },
  {
   "cell_type": "code",
   "execution_count": 105,
   "metadata": {
    "scrolled": false
   },
   "outputs": [
    {
     "data": {
      "text/plain": [
       "Low          114\n",
       "Very High    105\n",
       "High         102\n",
       "Medium        97\n",
       "Name: Fare_bucket, dtype: int64"
      ]
     },
     "execution_count": 105,
     "metadata": {},
     "output_type": "execute_result"
    }
   ],
   "source": [
    "# Checking for spread of data of Fare bucket\n",
    "data_test['Fare_bucket'].value_counts()"
   ]
  },
  {
   "cell_type": "code",
   "execution_count": 106,
   "metadata": {
    "scrolled": true
   },
   "outputs": [
    {
     "data": {
      "text/html": [
       "<div>\n",
       "<style scoped>\n",
       "    .dataframe tbody tr th:only-of-type {\n",
       "        vertical-align: middle;\n",
       "    }\n",
       "\n",
       "    .dataframe tbody tr th {\n",
       "        vertical-align: top;\n",
       "    }\n",
       "\n",
       "    .dataframe thead th {\n",
       "        text-align: right;\n",
       "    }\n",
       "</style>\n",
       "<table border=\"1\" class=\"dataframe\">\n",
       "  <thead>\n",
       "    <tr style=\"text-align: right;\">\n",
       "      <th></th>\n",
       "      <th>PassengerId</th>\n",
       "      <th>Pclass</th>\n",
       "      <th>Name</th>\n",
       "      <th>Sex</th>\n",
       "      <th>Age</th>\n",
       "      <th>SibSp</th>\n",
       "      <th>Parch</th>\n",
       "      <th>Ticket</th>\n",
       "      <th>Fare</th>\n",
       "      <th>Cabin</th>\n",
       "      <th>Embarked</th>\n",
       "      <th>Salutation</th>\n",
       "      <th>Age_bucket</th>\n",
       "      <th>Master</th>\n",
       "      <th>Family</th>\n",
       "      <th>Alone</th>\n",
       "      <th>Fare_bucket</th>\n",
       "    </tr>\n",
       "  </thead>\n",
       "  <tbody>\n",
       "    <tr>\n",
       "      <th>0</th>\n",
       "      <td>892</td>\n",
       "      <td>Lower</td>\n",
       "      <td>Kelly, Mr. James</td>\n",
       "      <td>male</td>\n",
       "      <td>34.5</td>\n",
       "      <td>0</td>\n",
       "      <td>0</td>\n",
       "      <td>330911</td>\n",
       "      <td>7.8292</td>\n",
       "      <td>NaN</td>\n",
       "      <td>Q</td>\n",
       "      <td>Mr</td>\n",
       "      <td>Adult</td>\n",
       "      <td>No</td>\n",
       "      <td>0</td>\n",
       "      <td>Yes</td>\n",
       "      <td>Low</td>\n",
       "    </tr>\n",
       "  </tbody>\n",
       "</table>\n",
       "</div>"
      ],
      "text/plain": [
       "   PassengerId Pclass              Name   Sex   Age  SibSp  Parch  Ticket  \\\n",
       "0          892  Lower  Kelly, Mr. James  male  34.5      0      0  330911   \n",
       "\n",
       "     Fare Cabin Embarked Salutation Age_bucket Master  Family Alone  \\\n",
       "0  7.8292   NaN        Q         Mr      Adult     No       0   Yes   \n",
       "\n",
       "  Fare_bucket  \n",
       "0         Low  "
      ]
     },
     "execution_count": 106,
     "metadata": {},
     "output_type": "execute_result"
    }
   ],
   "source": [
    "# Just printing a row to get a sense of all the features present now\n",
    "data_test.head(1)"
   ]
  },
  {
   "cell_type": "code",
   "execution_count": 107,
   "metadata": {},
   "outputs": [],
   "source": [
    "# Identified some columns against which new features have been derived or if the feature is not adding any value or \n",
    "# there are lot of missing values\n",
    "cols = ['Name','Age','SibSp','Parch','Ticket','Fare','Cabin','Salutation']\n",
    "data_test = data_test.drop(cols, axis=1)"
   ]
  },
  {
   "cell_type": "code",
   "execution_count": 108,
   "metadata": {},
   "outputs": [
    {
     "data": {
      "text/html": [
       "<div>\n",
       "<style scoped>\n",
       "    .dataframe tbody tr th:only-of-type {\n",
       "        vertical-align: middle;\n",
       "    }\n",
       "\n",
       "    .dataframe tbody tr th {\n",
       "        vertical-align: top;\n",
       "    }\n",
       "\n",
       "    .dataframe thead th {\n",
       "        text-align: right;\n",
       "    }\n",
       "</style>\n",
       "<table border=\"1\" class=\"dataframe\">\n",
       "  <thead>\n",
       "    <tr style=\"text-align: right;\">\n",
       "      <th></th>\n",
       "      <th>PassengerId</th>\n",
       "      <th>Pclass</th>\n",
       "      <th>Sex</th>\n",
       "      <th>Embarked</th>\n",
       "      <th>Age_bucket</th>\n",
       "      <th>Master</th>\n",
       "      <th>Family</th>\n",
       "      <th>Alone</th>\n",
       "      <th>Fare_bucket</th>\n",
       "    </tr>\n",
       "  </thead>\n",
       "  <tbody>\n",
       "    <tr>\n",
       "      <th>0</th>\n",
       "      <td>892</td>\n",
       "      <td>Lower</td>\n",
       "      <td>male</td>\n",
       "      <td>Q</td>\n",
       "      <td>Adult</td>\n",
       "      <td>No</td>\n",
       "      <td>0</td>\n",
       "      <td>Yes</td>\n",
       "      <td>Low</td>\n",
       "    </tr>\n",
       "  </tbody>\n",
       "</table>\n",
       "</div>"
      ],
      "text/plain": [
       "   PassengerId Pclass   Sex Embarked Age_bucket Master  Family Alone  \\\n",
       "0          892  Lower  male        Q      Adult     No       0   Yes   \n",
       "\n",
       "  Fare_bucket  \n",
       "0         Low  "
      ]
     },
     "execution_count": 108,
     "metadata": {},
     "output_type": "execute_result"
    }
   ],
   "source": [
    "# CHecking the dataframe post deletion\n",
    "data_test.head(1)"
   ]
  },
  {
   "cell_type": "code",
   "execution_count": 109,
   "metadata": {},
   "outputs": [],
   "source": [
    "# Converting the Family feature to categorical\n",
    "data_test['Family'] = data_test['Family'].astype('object')"
   ]
  },
  {
   "cell_type": "code",
   "execution_count": 110,
   "metadata": {},
   "outputs": [
    {
     "data": {
      "text/plain": [
       "['PassengerId']"
      ]
     },
     "execution_count": 110,
     "metadata": {},
     "output_type": "execute_result"
    }
   ],
   "source": [
    "# Identifying and putting the names of all numeric columns under one list\n",
    "numerics = ['int16', 'int32', 'int64', 'float16', 'float32', 'float64']\n",
    "datatest_num_cols = list(data_test.select_dtypes(include=numerics).columns)\n",
    "datatest_num_cols"
   ]
  },
  {
   "cell_type": "code",
   "execution_count": 111,
   "metadata": {},
   "outputs": [
    {
     "data": {
      "text/plain": [
       "['Pclass',\n",
       " 'Sex',\n",
       " 'Embarked',\n",
       " 'Age_bucket',\n",
       " 'Master',\n",
       " 'Family',\n",
       " 'Alone',\n",
       " 'Fare_bucket']"
      ]
     },
     "execution_count": 111,
     "metadata": {},
     "output_type": "execute_result"
    }
   ],
   "source": [
    "# Identifying and putting the names of all categorical columns under one list\n",
    "datatest_cat_cols = list(data_test.select_dtypes(exclude=numerics).columns)\n",
    "datatest_cat_cols"
   ]
  },
  {
   "cell_type": "code",
   "execution_count": 112,
   "metadata": {},
   "outputs": [
    {
     "data": {
      "text/html": [
       "<div>\n",
       "<style scoped>\n",
       "    .dataframe tbody tr th:only-of-type {\n",
       "        vertical-align: middle;\n",
       "    }\n",
       "\n",
       "    .dataframe tbody tr th {\n",
       "        vertical-align: top;\n",
       "    }\n",
       "\n",
       "    .dataframe thead th {\n",
       "        text-align: right;\n",
       "    }\n",
       "</style>\n",
       "<table border=\"1\" class=\"dataframe\">\n",
       "  <thead>\n",
       "    <tr style=\"text-align: right;\">\n",
       "      <th></th>\n",
       "      <th>Pclass_Middle</th>\n",
       "      <th>Pclass_Upper</th>\n",
       "      <th>Sex_male</th>\n",
       "      <th>Embarked_Q</th>\n",
       "      <th>Embarked_S</th>\n",
       "      <th>Age_bucket_Adolescence</th>\n",
       "      <th>Age_bucket_Adult</th>\n",
       "      <th>Age_bucket_SeniorCitizen</th>\n",
       "      <th>Master_Yes</th>\n",
       "      <th>Family_1</th>\n",
       "      <th>Family_2</th>\n",
       "      <th>Family_3</th>\n",
       "      <th>Family_4</th>\n",
       "      <th>Family_5</th>\n",
       "      <th>Family_6</th>\n",
       "      <th>Family_7</th>\n",
       "      <th>Family_10</th>\n",
       "      <th>Alone_Yes</th>\n",
       "      <th>Fare_bucket_Medium</th>\n",
       "      <th>Fare_bucket_High</th>\n",
       "      <th>Fare_bucket_Very High</th>\n",
       "    </tr>\n",
       "  </thead>\n",
       "  <tbody>\n",
       "    <tr>\n",
       "      <th>0</th>\n",
       "      <td>0</td>\n",
       "      <td>0</td>\n",
       "      <td>1</td>\n",
       "      <td>1</td>\n",
       "      <td>0</td>\n",
       "      <td>0</td>\n",
       "      <td>1</td>\n",
       "      <td>0</td>\n",
       "      <td>0</td>\n",
       "      <td>0</td>\n",
       "      <td>0</td>\n",
       "      <td>0</td>\n",
       "      <td>0</td>\n",
       "      <td>0</td>\n",
       "      <td>0</td>\n",
       "      <td>0</td>\n",
       "      <td>0</td>\n",
       "      <td>1</td>\n",
       "      <td>0</td>\n",
       "      <td>0</td>\n",
       "      <td>0</td>\n",
       "    </tr>\n",
       "    <tr>\n",
       "      <th>1</th>\n",
       "      <td>0</td>\n",
       "      <td>0</td>\n",
       "      <td>0</td>\n",
       "      <td>0</td>\n",
       "      <td>1</td>\n",
       "      <td>0</td>\n",
       "      <td>1</td>\n",
       "      <td>0</td>\n",
       "      <td>0</td>\n",
       "      <td>1</td>\n",
       "      <td>0</td>\n",
       "      <td>0</td>\n",
       "      <td>0</td>\n",
       "      <td>0</td>\n",
       "      <td>0</td>\n",
       "      <td>0</td>\n",
       "      <td>0</td>\n",
       "      <td>0</td>\n",
       "      <td>0</td>\n",
       "      <td>0</td>\n",
       "      <td>0</td>\n",
       "    </tr>\n",
       "    <tr>\n",
       "      <th>2</th>\n",
       "      <td>1</td>\n",
       "      <td>0</td>\n",
       "      <td>1</td>\n",
       "      <td>1</td>\n",
       "      <td>0</td>\n",
       "      <td>0</td>\n",
       "      <td>0</td>\n",
       "      <td>1</td>\n",
       "      <td>0</td>\n",
       "      <td>0</td>\n",
       "      <td>0</td>\n",
       "      <td>0</td>\n",
       "      <td>0</td>\n",
       "      <td>0</td>\n",
       "      <td>0</td>\n",
       "      <td>0</td>\n",
       "      <td>0</td>\n",
       "      <td>1</td>\n",
       "      <td>1</td>\n",
       "      <td>0</td>\n",
       "      <td>0</td>\n",
       "    </tr>\n",
       "    <tr>\n",
       "      <th>3</th>\n",
       "      <td>0</td>\n",
       "      <td>0</td>\n",
       "      <td>1</td>\n",
       "      <td>0</td>\n",
       "      <td>1</td>\n",
       "      <td>0</td>\n",
       "      <td>1</td>\n",
       "      <td>0</td>\n",
       "      <td>0</td>\n",
       "      <td>0</td>\n",
       "      <td>0</td>\n",
       "      <td>0</td>\n",
       "      <td>0</td>\n",
       "      <td>0</td>\n",
       "      <td>0</td>\n",
       "      <td>0</td>\n",
       "      <td>0</td>\n",
       "      <td>1</td>\n",
       "      <td>1</td>\n",
       "      <td>0</td>\n",
       "      <td>0</td>\n",
       "    </tr>\n",
       "    <tr>\n",
       "      <th>4</th>\n",
       "      <td>0</td>\n",
       "      <td>0</td>\n",
       "      <td>0</td>\n",
       "      <td>0</td>\n",
       "      <td>1</td>\n",
       "      <td>0</td>\n",
       "      <td>1</td>\n",
       "      <td>0</td>\n",
       "      <td>0</td>\n",
       "      <td>0</td>\n",
       "      <td>1</td>\n",
       "      <td>0</td>\n",
       "      <td>0</td>\n",
       "      <td>0</td>\n",
       "      <td>0</td>\n",
       "      <td>0</td>\n",
       "      <td>0</td>\n",
       "      <td>0</td>\n",
       "      <td>1</td>\n",
       "      <td>0</td>\n",
       "      <td>0</td>\n",
       "    </tr>\n",
       "  </tbody>\n",
       "</table>\n",
       "</div>"
      ],
      "text/plain": [
       "   Pclass_Middle  Pclass_Upper  Sex_male  Embarked_Q  Embarked_S  \\\n",
       "0              0             0         1           1           0   \n",
       "1              0             0         0           0           1   \n",
       "2              1             0         1           1           0   \n",
       "3              0             0         1           0           1   \n",
       "4              0             0         0           0           1   \n",
       "\n",
       "   Age_bucket_Adolescence  Age_bucket_Adult  Age_bucket_SeniorCitizen  \\\n",
       "0                       0                 1                         0   \n",
       "1                       0                 1                         0   \n",
       "2                       0                 0                         1   \n",
       "3                       0                 1                         0   \n",
       "4                       0                 1                         0   \n",
       "\n",
       "   Master_Yes  Family_1  Family_2  Family_3  Family_4  Family_5  Family_6  \\\n",
       "0           0         0         0         0         0         0         0   \n",
       "1           0         1         0         0         0         0         0   \n",
       "2           0         0         0         0         0         0         0   \n",
       "3           0         0         0         0         0         0         0   \n",
       "4           0         0         1         0         0         0         0   \n",
       "\n",
       "   Family_7  Family_10  Alone_Yes  Fare_bucket_Medium  Fare_bucket_High  \\\n",
       "0         0          0          1                   0                 0   \n",
       "1         0          0          0                   0                 0   \n",
       "2         0          0          1                   1                 0   \n",
       "3         0          0          1                   1                 0   \n",
       "4         0          0          0                   1                 0   \n",
       "\n",
       "   Fare_bucket_Very High  \n",
       "0                      0  \n",
       "1                      0  \n",
       "2                      0  \n",
       "3                      0  \n",
       "4                      0  "
      ]
     },
     "execution_count": 112,
     "metadata": {},
     "output_type": "execute_result"
    }
   ],
   "source": [
    "# Creating dummies against all the categorical features\n",
    "datatest_dummies = pd.get_dummies(data_test[datatest_cat_cols], drop_first=True)\n",
    "datatest_dummies.head()"
   ]
  },
  {
   "cell_type": "code",
   "execution_count": 113,
   "metadata": {},
   "outputs": [],
   "source": [
    "# Dropping all the columns against which dummy variables are created\n",
    "data_test = data_test.drop(list(datatest_cat_cols), axis=1)"
   ]
  },
  {
   "cell_type": "code",
   "execution_count": 114,
   "metadata": {},
   "outputs": [
    {
     "data": {
      "text/html": [
       "<div>\n",
       "<style scoped>\n",
       "    .dataframe tbody tr th:only-of-type {\n",
       "        vertical-align: middle;\n",
       "    }\n",
       "\n",
       "    .dataframe tbody tr th {\n",
       "        vertical-align: top;\n",
       "    }\n",
       "\n",
       "    .dataframe thead th {\n",
       "        text-align: right;\n",
       "    }\n",
       "</style>\n",
       "<table border=\"1\" class=\"dataframe\">\n",
       "  <thead>\n",
       "    <tr style=\"text-align: right;\">\n",
       "      <th></th>\n",
       "      <th>PassengerId</th>\n",
       "      <th>Pclass_Middle</th>\n",
       "      <th>Pclass_Upper</th>\n",
       "      <th>Sex_male</th>\n",
       "      <th>Embarked_Q</th>\n",
       "      <th>Embarked_S</th>\n",
       "      <th>Age_bucket_Adolescence</th>\n",
       "      <th>Age_bucket_Adult</th>\n",
       "      <th>Age_bucket_SeniorCitizen</th>\n",
       "      <th>Master_Yes</th>\n",
       "      <th>Family_1</th>\n",
       "      <th>Family_2</th>\n",
       "      <th>Family_3</th>\n",
       "      <th>Family_4</th>\n",
       "      <th>Family_5</th>\n",
       "      <th>Family_6</th>\n",
       "      <th>Family_7</th>\n",
       "      <th>Family_10</th>\n",
       "      <th>Alone_Yes</th>\n",
       "      <th>Fare_bucket_Medium</th>\n",
       "      <th>Fare_bucket_High</th>\n",
       "      <th>Fare_bucket_Very High</th>\n",
       "    </tr>\n",
       "  </thead>\n",
       "  <tbody>\n",
       "    <tr>\n",
       "      <th>0</th>\n",
       "      <td>892</td>\n",
       "      <td>0</td>\n",
       "      <td>0</td>\n",
       "      <td>1</td>\n",
       "      <td>1</td>\n",
       "      <td>0</td>\n",
       "      <td>0</td>\n",
       "      <td>1</td>\n",
       "      <td>0</td>\n",
       "      <td>0</td>\n",
       "      <td>0</td>\n",
       "      <td>0</td>\n",
       "      <td>0</td>\n",
       "      <td>0</td>\n",
       "      <td>0</td>\n",
       "      <td>0</td>\n",
       "      <td>0</td>\n",
       "      <td>0</td>\n",
       "      <td>1</td>\n",
       "      <td>0</td>\n",
       "      <td>0</td>\n",
       "      <td>0</td>\n",
       "    </tr>\n",
       "    <tr>\n",
       "      <th>1</th>\n",
       "      <td>893</td>\n",
       "      <td>0</td>\n",
       "      <td>0</td>\n",
       "      <td>0</td>\n",
       "      <td>0</td>\n",
       "      <td>1</td>\n",
       "      <td>0</td>\n",
       "      <td>1</td>\n",
       "      <td>0</td>\n",
       "      <td>0</td>\n",
       "      <td>1</td>\n",
       "      <td>0</td>\n",
       "      <td>0</td>\n",
       "      <td>0</td>\n",
       "      <td>0</td>\n",
       "      <td>0</td>\n",
       "      <td>0</td>\n",
       "      <td>0</td>\n",
       "      <td>0</td>\n",
       "      <td>0</td>\n",
       "      <td>0</td>\n",
       "      <td>0</td>\n",
       "    </tr>\n",
       "    <tr>\n",
       "      <th>2</th>\n",
       "      <td>894</td>\n",
       "      <td>1</td>\n",
       "      <td>0</td>\n",
       "      <td>1</td>\n",
       "      <td>1</td>\n",
       "      <td>0</td>\n",
       "      <td>0</td>\n",
       "      <td>0</td>\n",
       "      <td>1</td>\n",
       "      <td>0</td>\n",
       "      <td>0</td>\n",
       "      <td>0</td>\n",
       "      <td>0</td>\n",
       "      <td>0</td>\n",
       "      <td>0</td>\n",
       "      <td>0</td>\n",
       "      <td>0</td>\n",
       "      <td>0</td>\n",
       "      <td>1</td>\n",
       "      <td>1</td>\n",
       "      <td>0</td>\n",
       "      <td>0</td>\n",
       "    </tr>\n",
       "    <tr>\n",
       "      <th>3</th>\n",
       "      <td>895</td>\n",
       "      <td>0</td>\n",
       "      <td>0</td>\n",
       "      <td>1</td>\n",
       "      <td>0</td>\n",
       "      <td>1</td>\n",
       "      <td>0</td>\n",
       "      <td>1</td>\n",
       "      <td>0</td>\n",
       "      <td>0</td>\n",
       "      <td>0</td>\n",
       "      <td>0</td>\n",
       "      <td>0</td>\n",
       "      <td>0</td>\n",
       "      <td>0</td>\n",
       "      <td>0</td>\n",
       "      <td>0</td>\n",
       "      <td>0</td>\n",
       "      <td>1</td>\n",
       "      <td>1</td>\n",
       "      <td>0</td>\n",
       "      <td>0</td>\n",
       "    </tr>\n",
       "    <tr>\n",
       "      <th>4</th>\n",
       "      <td>896</td>\n",
       "      <td>0</td>\n",
       "      <td>0</td>\n",
       "      <td>0</td>\n",
       "      <td>0</td>\n",
       "      <td>1</td>\n",
       "      <td>0</td>\n",
       "      <td>1</td>\n",
       "      <td>0</td>\n",
       "      <td>0</td>\n",
       "      <td>0</td>\n",
       "      <td>1</td>\n",
       "      <td>0</td>\n",
       "      <td>0</td>\n",
       "      <td>0</td>\n",
       "      <td>0</td>\n",
       "      <td>0</td>\n",
       "      <td>0</td>\n",
       "      <td>0</td>\n",
       "      <td>1</td>\n",
       "      <td>0</td>\n",
       "      <td>0</td>\n",
       "    </tr>\n",
       "  </tbody>\n",
       "</table>\n",
       "</div>"
      ],
      "text/plain": [
       "   PassengerId  Pclass_Middle  Pclass_Upper  Sex_male  Embarked_Q  Embarked_S  \\\n",
       "0          892              0             0         1           1           0   \n",
       "1          893              0             0         0           0           1   \n",
       "2          894              1             0         1           1           0   \n",
       "3          895              0             0         1           0           1   \n",
       "4          896              0             0         0           0           1   \n",
       "\n",
       "   Age_bucket_Adolescence  Age_bucket_Adult  Age_bucket_SeniorCitizen  \\\n",
       "0                       0                 1                         0   \n",
       "1                       0                 1                         0   \n",
       "2                       0                 0                         1   \n",
       "3                       0                 1                         0   \n",
       "4                       0                 1                         0   \n",
       "\n",
       "   Master_Yes  Family_1  Family_2  Family_3  Family_4  Family_5  Family_6  \\\n",
       "0           0         0         0         0         0         0         0   \n",
       "1           0         1         0         0         0         0         0   \n",
       "2           0         0         0         0         0         0         0   \n",
       "3           0         0         0         0         0         0         0   \n",
       "4           0         0         1         0         0         0         0   \n",
       "\n",
       "   Family_7  Family_10  Alone_Yes  Fare_bucket_Medium  Fare_bucket_High  \\\n",
       "0         0          0          1                   0                 0   \n",
       "1         0          0          0                   0                 0   \n",
       "2         0          0          1                   1                 0   \n",
       "3         0          0          1                   1                 0   \n",
       "4         0          0          0                   1                 0   \n",
       "\n",
       "   Fare_bucket_Very High  \n",
       "0                      0  \n",
       "1                      0  \n",
       "2                      0  \n",
       "3                      0  \n",
       "4                      0  "
      ]
     },
     "execution_count": 114,
     "metadata": {},
     "output_type": "execute_result"
    }
   ],
   "source": [
    "# Concatting all the dummy variables with the original dataframe\n",
    "data_test = pd.concat([data_test, datatest_dummies], axis=1)\n",
    "data_test.head()"
   ]
  },
  {
   "cell_type": "code",
   "execution_count": 115,
   "metadata": {
    "scrolled": true
   },
   "outputs": [
    {
     "data": {
      "text/plain": [
       "(418, 22)"
      ]
     },
     "execution_count": 115,
     "metadata": {},
     "output_type": "execute_result"
    }
   ],
   "source": [
    "# Checking the shape of the final dataframe\n",
    "data_test.shape"
   ]
  },
  {
   "cell_type": "code",
   "execution_count": 116,
   "metadata": {},
   "outputs": [],
   "source": [
    "# Further shortlisting the significant columns only as per the model created above\n",
    "final_test = data_test[X_rfe.columns]"
   ]
  },
  {
   "cell_type": "code",
   "execution_count": 117,
   "metadata": {},
   "outputs": [
    {
     "data": {
      "text/plain": [
       "Index(['Pclass_Middle', 'Pclass_Upper', 'Sex_male', 'Master_Yes', 'Family_1',\n",
       "       'Family_2', 'Family_3', 'Alone_Yes'],\n",
       "      dtype='object')"
      ]
     },
     "execution_count": 117,
     "metadata": {},
     "output_type": "execute_result"
    }
   ],
   "source": [
    "# Printing the final set of columns\n",
    "final_test.columns"
   ]
  },
  {
   "cell_type": "code",
   "execution_count": 118,
   "metadata": {},
   "outputs": [
    {
     "name": "stdout",
     "output_type": "stream",
     "text": [
      "(418, 2)\n",
      "Saved file: Titanic Predictions.csv\n"
     ]
    }
   ],
   "source": [
    "# Using the model object created earlier, predicting the target values with the help of the test data and finally creating a\n",
    "# dataframe with the passengerID and the survival prediction and then saving the same in an excel for submission\n",
    "result = logreg.predict(final_test)\n",
    "submission = pd.DataFrame({'PassengerId':data_test.PassengerId,'Survived':result})\n",
    "submission.Survived = submission.Survived.astype(int)\n",
    "print(submission.shape)\n",
    "filename = 'Titanic Predictions.csv'\n",
    "submission.to_csv(filename,index=False)\n",
    "print('Saved file: ' + filename)"
   ]
  }
 ],
 "metadata": {
  "kernelspec": {
   "display_name": "Python 3",
   "language": "python",
   "name": "python3"
  },
  "language_info": {
   "codemirror_mode": {
    "name": "ipython",
    "version": 3
   },
   "file_extension": ".py",
   "mimetype": "text/x-python",
   "name": "python",
   "nbconvert_exporter": "python",
   "pygments_lexer": "ipython3",
   "version": "3.8.3"
  }
 },
 "nbformat": 4,
 "nbformat_minor": 4
}
